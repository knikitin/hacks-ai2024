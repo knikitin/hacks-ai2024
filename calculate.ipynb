{
  "nbformat": 4,
  "nbformat_minor": 0,
  "metadata": {
    "colab": {
      "provenance": []
    },
    "kernelspec": {
      "name": "python3",
      "display_name": "Python 3"
    },
    "language_info": {
      "name": "python"
    }
  },
  "cells": [
    {
      "cell_type": "markdown",
      "source": [
        "### Создаем DF c требованиями"
      ],
      "metadata": {
        "id": "PGi4UKG1hb9U"
      }
    },
    {
      "cell_type": "code",
      "source": [
        "!pip install python-docx -q"
      ],
      "metadata": {
        "id": "eVVBrsVIjdJE"
      },
      "execution_count": null,
      "outputs": []
    },
    {
      "cell_type": "code",
      "source": [
        "import os\n",
        "import pandas as pd\n",
        "from docx import Document\n",
        "import re"
      ],
      "metadata": {
        "id": "YtwgfpIXhdo_"
      },
      "execution_count": null,
      "outputs": []
    },
    {
      "cell_type": "code",
      "source": [
        "# pd.set_option('display.max_columns', None)\n",
        "# pd.set_option('display.expand_frame_repr', False)\n",
        "# pd.set_option('max_colwidth', None)"
      ],
      "metadata": {
        "id": "SJEmtr8SpbI5"
      },
      "execution_count": null,
      "outputs": []
    },
    {
      "cell_type": "code",
      "source": [
        "def extract_text_from_word(filepath):\n",
        "    doc = Document(filepath)\n",
        "    full_text = []\n",
        "    for para in doc.paragraphs:\n",
        "        full_text.append(para.text)\n",
        "    return '\\n'.join(full_text)"
      ],
      "metadata": {
        "id": "kzkc0Tpwhd84"
      },
      "execution_count": null,
      "outputs": []
    },
    {
      "cell_type": "code",
      "source": [
        "def extract_id_from_filename(filename):\n",
        "    match = re.search(r'UC-(\\d+)', filename)\n",
        "    if match:\n",
        "        return match.group(1)\n",
        "    return None\n"
      ],
      "metadata": {
        "id": "gIJUZqGdheAE"
      },
      "execution_count": null,
      "outputs": []
    },
    {
      "cell_type": "code",
      "source": [
        "# Define the path to the folder containing the Word files\n",
        "directory = '/content/drive/MyDrive/Цифровой прорыв/train Атом/train data/HMI'"
      ],
      "metadata": {
        "id": "Bthe8udbheDJ"
      },
      "execution_count": null,
      "outputs": []
    },
    {
      "cell_type": "code",
      "source": [
        "# Initialize an empty list to store the extracted data\n",
        "data = []\n",
        "\n",
        "# Iterate over all files in the directory\n",
        "for filename in os.listdir(directory):\n",
        "    if filename.endswith('.docx'):\n",
        "        filepath = os.path.join(directory, filename)\n",
        "        file_id = extract_id_from_filename(filename)\n",
        "        file_content = extract_text_from_word(filepath)\n",
        "        data.append({'Number': file_id, 'HMI': file_content})\n",
        "\n",
        "# Create a pandas DataFrame from the extracted data\n",
        "df_task = pd.DataFrame(data)"
      ],
      "metadata": {
        "id": "gC9qNV7XheGL"
      },
      "execution_count": null,
      "outputs": []
    },
    {
      "cell_type": "code",
      "source": [
        "df_task.head()"
      ],
      "metadata": {
        "id": "LWG2lqLfheI_",
        "colab": {
          "base_uri": "https://localhost:8080/",
          "height": 553
        },
        "outputId": "2ebd4855-e798-417b-9743-fdb11f6937cf"
      },
      "execution_count": null,
      "outputs": [
        {
          "output_type": "execute_result",
          "data": {
            "text/plain": [
              "  Number                                                                                                                                                                                                                                                                                                                                                                                                                                                                                                                                                                                                                                                                                                                                                                                                                                                                                                                                                                                                                                                                                                                                                                                                                                                                                                                                                                                                                                                                                                                                                                                                                                                                                                                                                                                                                                                                                                                                                                                                                                                                                HMI\n",
              "0   8604                                                                                                                                                                                                                                                                                                                                                                                                                                                                                                                                                                                                                                                                                                                                                                                                                                                                                                                                                                                                                                                                     [I-8604]  Source selection for Media output\\nDescription: \\nGoal: Enable user selection of multimedia audio sources.\\nContext: Atom car is able to playback media from a list of sources like am/FM radio, internet radio, USB storage, internal SD card, and other devices connected via Bluetooth. Atom car users shall be able to select a source for media playback.\\nScope: This use case is about selecting the source, not browsing for content within the source. Assuming that user is inside the car, the car is ready to playback media from any aspect.\\nActors: User.\\n\\nPreconditions:\\nATOM is on \\nin_5. Smartphone is paired with the car \\nMain Scenario:\\nUser selects the \"Multimedia\" via in_5 or in_2/ \\nout_2/out_5 displays the available audio sources: \\nInternet Radio \\nFM Radio \\nUSB \\nInternal SD card \\nBluetooth \\nPostconditions:\\nout_2/out_5 shows available media sources \\nRequirements:\\nThe action is displayed on the touchpoint from which this action is performed \n",
              "1   8692  [I-8692]  Emergency Service Communication (ERA-Glonass)\\nPreconditions:\\nThe vehicle is in the Drive State (PRND)\\nThe vehicle is capable of communicating with emergency services (ERA-Glonass functional).\\nThe vehicle is involved in or witnesses an emergency, such as a collision or a medical issue, necessitating communication with emergency services.\\nTrigger:\\nThe vehicle sensors detect a collision and activate the emergency communication feature.\\nThe driver manually presses in_19. SOS button (roof console)activate the emergency communication feature.\\nMain Scenario:\\nThe ERA-Glonass initiates emergency service communication.\\nDuring the emergency call, the safety audio system automatically mutes or lowers the volume of other audio sources within the vehicle, such as the radio, navigation prompts, or entertainment systems.\\nThe public safety answering point (PSAP) receives critical information about the situation, location, and the nature of the emergency from the In-vehicle system and occupants' answers.\\nThe communication continues until the PSAP determines that it is safe to end the call or until the situation is resolved.\\nOnce the emergency communication ends, the safety audio system restores the audio sources to their previous settings, or the driver can manually unmute the audio via in_2.\\nPostconditions：\\nThe driver is able to communicate with the emergency services via ERA-Glonass.\\nAlternative Scenarios:\\nA. ERA-Glonass Malfunction\\nThere is a notification display on out_2, out_5 when the ERA-GLONASS has an error.\\nIf ERA can not be activated, the driver or passengers may need to use personal mobile devices in_5.Smartphone or other means to contact emergency services.\\nIf the driver does not respond to the emergency service communication attempts due to system malfunction or physical reasons, ERA will still attempt the call and locate the vehicle, lights on out_19. SOS button (roof console) and 16. Turn lamps (right & left) \\ Warning at the same time.\\n\\n\n",
              "2  31523                                                                                                                                                                                                                                                                                                                                                                                                                                                                                                                                                                                                                                                                                                                                                                                                                                                                                                                                                                                                                                                                                                                                                                                                                                                                                                    [I-31523]  Adding Internet Radio to Favorites List\\nDescription: \\nUse Case: Adding Internet Radio to Favorites List\\n\\nGoal: User wants to add favorites internet radio to enlighten the access to his favorite music/info\\n\\nActors:\\nCar User \\nIVI \\nPreconditions:\\nUser in in the Internet Radio list \\nTriggers:\\nUser selects to add the Radio via in_2/in_5 \\nMain Scenario:\\nThe user press on the UI interface \"Add to Favorites\" icon \\nPostconditions:\\nThe selected internet radio station is added to the user's personalized favorites list. \\nRequirenments:\\nUser must be able to navigate to the Favourite list from Internet Radio interface \\nUser must be able to 'Remove from favorites' the Internet Radio station by pressing the same interface icon \n",
              "3  26160                                                                                                                                                                                                                                                                                                                                                                                                                                                                                                                                                                                                                                                                                                                                                                                                                                                                                                                                                                                                                                                                                                                                                                                                                                                                                                                                                                                                                               [I-26160]  Filtering the internet radio stations\\nDescription: \\nGoal: 'Reorder the Internet Radio stations by the attributes'\\n\\nPreconditions:\\nATOM is connected to the internet \\nUser has selected Internet Radio playback \\nSmartphone in_5 Bluetooth switched on \\nSmartphone in_5 paired with Vehicle \\nMain Scenario:\\nout_2/out_5 displays the list of stations \\nUser filters stations via in_2/in_5 by: \\nGenre, \\nCountry \\nPopularity \\nPostconditions:\\nout_2/out_5 displays the internet radio stations compliant with the filter \\nRequirenments:\\nThe action is displayed on the touchpoint from which this action is performed \\n\n",
              "4  26161                                                                                                                                                                                                                                                                                                                                                                                                                                                                                                                                                                                                                                                                                                                                                                                                                                                                                                                                                                                                                                                                                                                                                                                                                                                                                                                                                                                                                                                                                                             [I-26161]  FM Radio Stations switching\\nDescription: \\nPreconditions:\\nUser has selected FM Radio playback \\nSmartphone in_5 Bluetooth switched on \\nSmartphone in_5 paired with Vehicle \\nMain Scenario:\\nUser presses the forward/backward button via in_2/in_5/in_10 \\nIVI switches the next/previous FM Radio station in the list \\nPostconditions:\\nout_5/out_2 shows the station information \\n24.1 All Multimedia Sounds. Speaker plays the new station output \\nRequirenments:\\nThe action is displayed on the touchpoint from which this action is performed "
            ],
            "text/html": [
              "\n",
              "  <div id=\"df-a25ac22a-85bf-483c-8041-9f0646803c87\" class=\"colab-df-container\">\n",
              "    <div>\n",
              "<style scoped>\n",
              "    .dataframe tbody tr th:only-of-type {\n",
              "        vertical-align: middle;\n",
              "    }\n",
              "\n",
              "    .dataframe tbody tr th {\n",
              "        vertical-align: top;\n",
              "    }\n",
              "\n",
              "    .dataframe thead th {\n",
              "        text-align: right;\n",
              "    }\n",
              "</style>\n",
              "<table border=\"1\" class=\"dataframe\">\n",
              "  <thead>\n",
              "    <tr style=\"text-align: right;\">\n",
              "      <th></th>\n",
              "      <th>Number</th>\n",
              "      <th>HMI</th>\n",
              "    </tr>\n",
              "  </thead>\n",
              "  <tbody>\n",
              "    <tr>\n",
              "      <th>0</th>\n",
              "      <td>8604</td>\n",
              "      <td>[I-8604]  Source selection for Media output\\nDescription: \\nGoal: Enable user selection of multimedia audio sources.\\nContext: Atom car is able to playback media from a list of sources like am/FM radio, internet radio, USB storage, internal SD card, and other devices connected via Bluetooth. Atom car users shall be able to select a source for media playback.\\nScope: This use case is about selecting the source, not browsing for content within the source. Assuming that user is inside the car, the car is ready to playback media from any aspect.\\nActors: User.\\n\\nPreconditions:\\nATOM is on \\nin_5. Smartphone is paired with the car \\nMain Scenario:\\nUser selects the \"Multimedia\" via in_5 or in_2/ \\nout_2/out_5 displays the available audio sources: \\nInternet Radio \\nFM Radio \\nUSB \\nInternal SD card \\nBluetooth \\nPostconditions:\\nout_2/out_5 shows available media sources \\nRequirements:\\nThe action is displayed on the touchpoint from which this action is performed</td>\n",
              "    </tr>\n",
              "    <tr>\n",
              "      <th>1</th>\n",
              "      <td>8692</td>\n",
              "      <td>[I-8692]  Emergency Service Communication (ERA-Glonass)\\nPreconditions:\\nThe vehicle is in the Drive State (PRND)\\nThe vehicle is capable of communicating with emergency services (ERA-Glonass functional).\\nThe vehicle is involved in or witnesses an emergency, such as a collision or a medical issue, necessitating communication with emergency services.\\nTrigger:\\nThe vehicle sensors detect a collision and activate the emergency communication feature.\\nThe driver manually presses in_19. SOS button (roof console)activate the emergency communication feature.\\nMain Scenario:\\nThe ERA-Glonass initiates emergency service communication.\\nDuring the emergency call, the safety audio system automatically mutes or lowers the volume of other audio sources within the vehicle, such as the radio, navigation prompts, or entertainment systems.\\nThe public safety answering point (PSAP) receives critical information about the situation, location, and the nature of the emergency from the In-vehicle system and occupants' answers.\\nThe communication continues until the PSAP determines that it is safe to end the call or until the situation is resolved.\\nOnce the emergency communication ends, the safety audio system restores the audio sources to their previous settings, or the driver can manually unmute the audio via in_2.\\nPostconditions：\\nThe driver is able to communicate with the emergency services via ERA-Glonass.\\nAlternative Scenarios:\\nA. ERA-Glonass Malfunction\\nThere is a notification display on out_2, out_5 when the ERA-GLONASS has an error.\\nIf ERA can not be activated, the driver or passengers may need to use personal mobile devices in_5.Smartphone or other means to contact emergency services.\\nIf the driver does not respond to the emergency service communication attempts due to system malfunction or physical reasons, ERA will still attempt the call and locate the vehicle, lights on out_19. SOS button (roof console) and 16. Turn lamps (right &amp; left) \\ Warning at the same time.\\n\\n</td>\n",
              "    </tr>\n",
              "    <tr>\n",
              "      <th>2</th>\n",
              "      <td>31523</td>\n",
              "      <td>[I-31523]  Adding Internet Radio to Favorites List\\nDescription: \\nUse Case: Adding Internet Radio to Favorites List\\n\\nGoal: User wants to add favorites internet radio to enlighten the access to his favorite music/info\\n\\nActors:\\nCar User \\nIVI \\nPreconditions:\\nUser in in the Internet Radio list \\nTriggers:\\nUser selects to add the Radio via in_2/in_5 \\nMain Scenario:\\nThe user press on the UI interface \"Add to Favorites\" icon \\nPostconditions:\\nThe selected internet radio station is added to the user's personalized favorites list. \\nRequirenments:\\nUser must be able to navigate to the Favourite list from Internet Radio interface \\nUser must be able to 'Remove from favorites' the Internet Radio station by pressing the same interface icon</td>\n",
              "    </tr>\n",
              "    <tr>\n",
              "      <th>3</th>\n",
              "      <td>26160</td>\n",
              "      <td>[I-26160]  Filtering the internet radio stations\\nDescription: \\nGoal: 'Reorder the Internet Radio stations by the attributes'\\n\\nPreconditions:\\nATOM is connected to the internet \\nUser has selected Internet Radio playback \\nSmartphone in_5 Bluetooth switched on \\nSmartphone in_5 paired with Vehicle \\nMain Scenario:\\nout_2/out_5 displays the list of stations \\nUser filters stations via in_2/in_5 by: \\nGenre, \\nCountry \\nPopularity \\nPostconditions:\\nout_2/out_5 displays the internet radio stations compliant with the filter \\nRequirenments:\\nThe action is displayed on the touchpoint from which this action is performed \\n</td>\n",
              "    </tr>\n",
              "    <tr>\n",
              "      <th>4</th>\n",
              "      <td>26161</td>\n",
              "      <td>[I-26161]  FM Radio Stations switching\\nDescription: \\nPreconditions:\\nUser has selected FM Radio playback \\nSmartphone in_5 Bluetooth switched on \\nSmartphone in_5 paired with Vehicle \\nMain Scenario:\\nUser presses the forward/backward button via in_2/in_5/in_10 \\nIVI switches the next/previous FM Radio station in the list \\nPostconditions:\\nout_5/out_2 shows the station information \\n24.1 All Multimedia Sounds. Speaker plays the new station output \\nRequirenments:\\nThe action is displayed on the touchpoint from which this action is performed</td>\n",
              "    </tr>\n",
              "  </tbody>\n",
              "</table>\n",
              "</div>\n",
              "    <div class=\"colab-df-buttons\">\n",
              "\n",
              "  <div class=\"colab-df-container\">\n",
              "    <button class=\"colab-df-convert\" onclick=\"convertToInteractive('df-a25ac22a-85bf-483c-8041-9f0646803c87')\"\n",
              "            title=\"Convert this dataframe to an interactive table.\"\n",
              "            style=\"display:none;\">\n",
              "\n",
              "  <svg xmlns=\"http://www.w3.org/2000/svg\" height=\"24px\" viewBox=\"0 -960 960 960\">\n",
              "    <path d=\"M120-120v-720h720v720H120Zm60-500h600v-160H180v160Zm220 220h160v-160H400v160Zm0 220h160v-160H400v160ZM180-400h160v-160H180v160Zm440 0h160v-160H620v160ZM180-180h160v-160H180v160Zm440 0h160v-160H620v160Z\"/>\n",
              "  </svg>\n",
              "    </button>\n",
              "\n",
              "  <style>\n",
              "    .colab-df-container {\n",
              "      display:flex;\n",
              "      gap: 12px;\n",
              "    }\n",
              "\n",
              "    .colab-df-convert {\n",
              "      background-color: #E8F0FE;\n",
              "      border: none;\n",
              "      border-radius: 50%;\n",
              "      cursor: pointer;\n",
              "      display: none;\n",
              "      fill: #1967D2;\n",
              "      height: 32px;\n",
              "      padding: 0 0 0 0;\n",
              "      width: 32px;\n",
              "    }\n",
              "\n",
              "    .colab-df-convert:hover {\n",
              "      background-color: #E2EBFA;\n",
              "      box-shadow: 0px 1px 2px rgba(60, 64, 67, 0.3), 0px 1px 3px 1px rgba(60, 64, 67, 0.15);\n",
              "      fill: #174EA6;\n",
              "    }\n",
              "\n",
              "    .colab-df-buttons div {\n",
              "      margin-bottom: 4px;\n",
              "    }\n",
              "\n",
              "    [theme=dark] .colab-df-convert {\n",
              "      background-color: #3B4455;\n",
              "      fill: #D2E3FC;\n",
              "    }\n",
              "\n",
              "    [theme=dark] .colab-df-convert:hover {\n",
              "      background-color: #434B5C;\n",
              "      box-shadow: 0px 1px 3px 1px rgba(0, 0, 0, 0.15);\n",
              "      filter: drop-shadow(0px 1px 2px rgba(0, 0, 0, 0.3));\n",
              "      fill: #FFFFFF;\n",
              "    }\n",
              "  </style>\n",
              "\n",
              "    <script>\n",
              "      const buttonEl =\n",
              "        document.querySelector('#df-a25ac22a-85bf-483c-8041-9f0646803c87 button.colab-df-convert');\n",
              "      buttonEl.style.display =\n",
              "        google.colab.kernel.accessAllowed ? 'block' : 'none';\n",
              "\n",
              "      async function convertToInteractive(key) {\n",
              "        const element = document.querySelector('#df-a25ac22a-85bf-483c-8041-9f0646803c87');\n",
              "        const dataTable =\n",
              "          await google.colab.kernel.invokeFunction('convertToInteractive',\n",
              "                                                    [key], {});\n",
              "        if (!dataTable) return;\n",
              "\n",
              "        const docLinkHtml = 'Like what you see? Visit the ' +\n",
              "          '<a target=\"_blank\" href=https://colab.research.google.com/notebooks/data_table.ipynb>data table notebook</a>'\n",
              "          + ' to learn more about interactive tables.';\n",
              "        element.innerHTML = '';\n",
              "        dataTable['output_type'] = 'display_data';\n",
              "        await google.colab.output.renderOutput(dataTable, element);\n",
              "        const docLink = document.createElement('div');\n",
              "        docLink.innerHTML = docLinkHtml;\n",
              "        element.appendChild(docLink);\n",
              "      }\n",
              "    </script>\n",
              "  </div>\n",
              "\n",
              "\n",
              "<div id=\"df-07ff6622-37fa-40a4-b242-de6b7e53ebdb\">\n",
              "  <button class=\"colab-df-quickchart\" onclick=\"quickchart('df-07ff6622-37fa-40a4-b242-de6b7e53ebdb')\"\n",
              "            title=\"Suggest charts\"\n",
              "            style=\"display:none;\">\n",
              "\n",
              "<svg xmlns=\"http://www.w3.org/2000/svg\" height=\"24px\"viewBox=\"0 0 24 24\"\n",
              "     width=\"24px\">\n",
              "    <g>\n",
              "        <path d=\"M19 3H5c-1.1 0-2 .9-2 2v14c0 1.1.9 2 2 2h14c1.1 0 2-.9 2-2V5c0-1.1-.9-2-2-2zM9 17H7v-7h2v7zm4 0h-2V7h2v10zm4 0h-2v-4h2v4z\"/>\n",
              "    </g>\n",
              "</svg>\n",
              "  </button>\n",
              "\n",
              "<style>\n",
              "  .colab-df-quickchart {\n",
              "      --bg-color: #E8F0FE;\n",
              "      --fill-color: #1967D2;\n",
              "      --hover-bg-color: #E2EBFA;\n",
              "      --hover-fill-color: #174EA6;\n",
              "      --disabled-fill-color: #AAA;\n",
              "      --disabled-bg-color: #DDD;\n",
              "  }\n",
              "\n",
              "  [theme=dark] .colab-df-quickchart {\n",
              "      --bg-color: #3B4455;\n",
              "      --fill-color: #D2E3FC;\n",
              "      --hover-bg-color: #434B5C;\n",
              "      --hover-fill-color: #FFFFFF;\n",
              "      --disabled-bg-color: #3B4455;\n",
              "      --disabled-fill-color: #666;\n",
              "  }\n",
              "\n",
              "  .colab-df-quickchart {\n",
              "    background-color: var(--bg-color);\n",
              "    border: none;\n",
              "    border-radius: 50%;\n",
              "    cursor: pointer;\n",
              "    display: none;\n",
              "    fill: var(--fill-color);\n",
              "    height: 32px;\n",
              "    padding: 0;\n",
              "    width: 32px;\n",
              "  }\n",
              "\n",
              "  .colab-df-quickchart:hover {\n",
              "    background-color: var(--hover-bg-color);\n",
              "    box-shadow: 0 1px 2px rgba(60, 64, 67, 0.3), 0 1px 3px 1px rgba(60, 64, 67, 0.15);\n",
              "    fill: var(--button-hover-fill-color);\n",
              "  }\n",
              "\n",
              "  .colab-df-quickchart-complete:disabled,\n",
              "  .colab-df-quickchart-complete:disabled:hover {\n",
              "    background-color: var(--disabled-bg-color);\n",
              "    fill: var(--disabled-fill-color);\n",
              "    box-shadow: none;\n",
              "  }\n",
              "\n",
              "  .colab-df-spinner {\n",
              "    border: 2px solid var(--fill-color);\n",
              "    border-color: transparent;\n",
              "    border-bottom-color: var(--fill-color);\n",
              "    animation:\n",
              "      spin 1s steps(1) infinite;\n",
              "  }\n",
              "\n",
              "  @keyframes spin {\n",
              "    0% {\n",
              "      border-color: transparent;\n",
              "      border-bottom-color: var(--fill-color);\n",
              "      border-left-color: var(--fill-color);\n",
              "    }\n",
              "    20% {\n",
              "      border-color: transparent;\n",
              "      border-left-color: var(--fill-color);\n",
              "      border-top-color: var(--fill-color);\n",
              "    }\n",
              "    30% {\n",
              "      border-color: transparent;\n",
              "      border-left-color: var(--fill-color);\n",
              "      border-top-color: var(--fill-color);\n",
              "      border-right-color: var(--fill-color);\n",
              "    }\n",
              "    40% {\n",
              "      border-color: transparent;\n",
              "      border-right-color: var(--fill-color);\n",
              "      border-top-color: var(--fill-color);\n",
              "    }\n",
              "    60% {\n",
              "      border-color: transparent;\n",
              "      border-right-color: var(--fill-color);\n",
              "    }\n",
              "    80% {\n",
              "      border-color: transparent;\n",
              "      border-right-color: var(--fill-color);\n",
              "      border-bottom-color: var(--fill-color);\n",
              "    }\n",
              "    90% {\n",
              "      border-color: transparent;\n",
              "      border-bottom-color: var(--fill-color);\n",
              "    }\n",
              "  }\n",
              "</style>\n",
              "\n",
              "  <script>\n",
              "    async function quickchart(key) {\n",
              "      const quickchartButtonEl =\n",
              "        document.querySelector('#' + key + ' button');\n",
              "      quickchartButtonEl.disabled = true;  // To prevent multiple clicks.\n",
              "      quickchartButtonEl.classList.add('colab-df-spinner');\n",
              "      try {\n",
              "        const charts = await google.colab.kernel.invokeFunction(\n",
              "            'suggestCharts', [key], {});\n",
              "      } catch (error) {\n",
              "        console.error('Error during call to suggestCharts:', error);\n",
              "      }\n",
              "      quickchartButtonEl.classList.remove('colab-df-spinner');\n",
              "      quickchartButtonEl.classList.add('colab-df-quickchart-complete');\n",
              "    }\n",
              "    (() => {\n",
              "      let quickchartButtonEl =\n",
              "        document.querySelector('#df-07ff6622-37fa-40a4-b242-de6b7e53ebdb button');\n",
              "      quickchartButtonEl.style.display =\n",
              "        google.colab.kernel.accessAllowed ? 'block' : 'none';\n",
              "    })();\n",
              "  </script>\n",
              "</div>\n",
              "    </div>\n",
              "  </div>\n"
            ],
            "application/vnd.google.colaboratory.intrinsic+json": {
              "type": "dataframe",
              "variable_name": "df_task",
              "summary": "{\n  \"name\": \"df_task\",\n  \"rows\": 12,\n  \"fields\": [\n    {\n      \"column\": \"Number\",\n      \"properties\": {\n        \"dtype\": \"string\",\n        \"num_unique_values\": 12,\n        \"samples\": [\n          \"25957\",\n          \"11467\",\n          \"8604\"\n        ],\n        \"semantic_type\": \"\",\n        \"description\": \"\"\n      }\n    },\n    {\n      \"column\": \"HMI\",\n      \"properties\": {\n        \"dtype\": \"string\",\n        \"num_unique_values\": 12,\n        \"samples\": [\n          \"[I-25957]\\u00a0 Mute/unmute the FM Radio playback\\nDescription: \\nPreconditions:\\nUser is playing FM Radio \\nMain Scenario:\\n\\u200b\\u200b\\u200bUser clicks on Mute/Unmute button via in_2/in_5 \\nFM Radio sound output is Muted/Unmuted \\nPostconditions:\\nThe user Mutes/Unmutes the FM Radio playback \\nGoal: \\\"Users are able to mute/unmute the FM Radio playback\\\"\",\n          \"[I-11467]\\u00a0 Revoke access to the vehicle from a driver or passenger\\n\\nGoal:\\nEnable the Owner to quickly revoke access from other drivers/profiles to the vehicle through the ATOM application.\\nPreconditions:\\nAlice - the owner or the driver with to grant access to the car\\nAlice decides to revoke previously granted access.\\nMain Scenario:\\nAlice opens the ATOM application on his in_5. Smart phone and goes to the section \\u201cAccess Management\\u201d\\nThe system displayed the list with active drivers/passengers\\nThe owner selects the \\\"Revoke access\\\" option for delete the specific profile.\\nWhen connecting to the car via the application, the access recorded on it is automatically deleted.\\nAll accesses previously generated by this profile are also deleted. (if applicable)\\nRights were given, settings are saved in the user profile\\nAlternative scenario:\\nIn case the car does not have a direct connection with the application, the owner can issue a command to remove access.\\nAccess will be removed the next time the car connects to the internet.\\nIf the vehicle is in motion, access will be announced after the vehicle stops(parking mode).\\nPostconditions:\\nAccess has been successfully revoked\\nAll profile-related access is also removed, ensuring security.\\nA push notification appears on the mobile screen informing the owner that the vehicle user's access was revoked successfully. It can be closed manually or automatically after 5 seconds.\\n\",\n          \"[I-8604]\\u00a0 Source selection for Media output\\nDescription: \\nGoal: Enable user selection of multimedia audio sources.\\nContext: Atom car is able to playback media from a list of sources like am/FM radio, internet radio, USB storage, internal SD card, and other devices connected via Bluetooth. Atom car users shall be able to select a source for media playback.\\nScope: This use case is about selecting the source, not browsing for content within the source. Assuming that user is inside the car, the car is ready to playback media from any aspect.\\nActors: User.\\n\\nPreconditions:\\nATOM is on \\nin_5. Smartphone is paired with the car \\nMain Scenario:\\nUser selects the \\\"Multimedia\\\" via in_5 or in_2/ \\nout_2/out_5 displays the available audio sources: \\nInternet Radio \\nFM Radio \\nUSB \\nInternal SD card \\nBluetooth \\nPostconditions:\\nout_2/out_5 shows available media sources \\nRequirements:\\nThe action is displayed on the touchpoint from which this action is performed \"\n        ],\n        \"semantic_type\": \"\",\n        \"description\": \"\"\n      }\n    }\n  ]\n}"
            }
          },
          "metadata": {},
          "execution_count": 133
        }
      ]
    },
    {
      "cell_type": "markdown",
      "source": [],
      "metadata": {
        "id": "I1hYpmvzqGsX"
      }
    },
    {
      "cell_type": "markdown",
      "source": [
        "### Создаем DF c предложениями"
      ],
      "metadata": {
        "id": "VgBJRIDYqNlX"
      }
    },
    {
      "cell_type": "code",
      "source": [
        "def extract_id_from_filename(filename):\n",
        "    match = re.search(r'SSTS-(\\d+)', filename)\n",
        "    if match:\n",
        "        return match.group(1)\n",
        "    return None\n"
      ],
      "metadata": {
        "id": "-asloz2eqRYg"
      },
      "execution_count": null,
      "outputs": []
    },
    {
      "cell_type": "code",
      "source": [
        "# Define the path to the folder containing the Word files\n",
        "directory = '/content/drive/MyDrive/Цифровой прорыв/train Атом/train data/SSTS'"
      ],
      "metadata": {
        "id": "myax3Ev-qRbP"
      },
      "execution_count": null,
      "outputs": []
    },
    {
      "cell_type": "code",
      "source": [
        "# Initialize an empty list to store the extracted data\n",
        "data = []\n",
        "\n",
        "# Iterate over all files in the directory\n",
        "for filename in os.listdir(directory):\n",
        "    if filename.endswith('.docx'):\n",
        "        filepath = os.path.join(directory, filename)\n",
        "        file_id = extract_id_from_filename(filename)\n",
        "        file_content = extract_text_from_word(filepath)\n",
        "        data.append({'Number': file_id, 'SSTS': file_content})\n",
        "\n",
        "# Create a pandas DataFrame from the extracted data\n",
        "df_pred = pd.DataFrame(data)"
      ],
      "metadata": {
        "id": "VPlFrVlgqRd-"
      },
      "execution_count": null,
      "outputs": []
    },
    {
      "cell_type": "code",
      "source": [
        "df_pred.head()"
      ],
      "metadata": {
        "colab": {
          "base_uri": "https://localhost:8080/"
        },
        "id": "Y9W9hmWgqRg2",
        "outputId": "5c531896-70c0-46a0-f98f-190b037b7d4c"
      },
      "execution_count": null,
      "outputs": [
        {
          "output_type": "execute_result",
          "data": {
            "text/plain": [
              "  Number                                                                                                                                                                                                                                                                                                                                                                                                                                                                                                                                                                                                                                                                                                                                                                                                                                                                                                                                                                                                                                                                                                                                                                                                                                                                                                                                                                                                                                                                                                                                                                                                                                                                                                                                                                                                                                                                                                                                                                                                                                                                                                                                                                                                                                                                                                                                                                                                                                                                                                                                                                                                                                                                                                                                                                                                                                                                                                                                                                                                                                                                                                                                                                                                                                                                                                                                                                                                                                                          SSTS\n",
              "0   6583                                                                                                                                                                                                                                                                                                                                                                                                                                                                                                                                                                                                                                                                                                                                                                                                                                                                                                                                                                                                Make a call (B sample)\\nFunctional Description:\\nUsers can dial through IVI and make phone calls. Only when the vehicle is stopped can calls be made through SWP.\\n1. Enabling conditions (a&b&c):\\na. IVI system startup;\\nb. User can operate SWP;\\nc. Mobile Bluetooth connected.\\n2. Trigger conditions (a|b|c|d|e|f):\\na. Toggledialpad via SWP to make a call, if the driver doesn't have this number in contacts,Enter the phone number on the dialpad to make a call.\\nb. Make a call through voice commands;\\nc. Make a call through the mobile phone.\\nMake a phone call. Trigger a call via connected phone.\\nd. Toggle 'Call' menu option (where driver can see recent calls) via SWP to make a call;\\ne. Driver select contact for calling in synchronized phonebook via SWP;\\nf. IVI stores and displays the phone number of the roadside assistance hotline in advance, and users click on SWP to call the roadside assistance hotline;\\n3. Execution output (a&b&c&d&e&f&g):\\na. The dialpad interface has a numeric keyboard and dialing software buttons;\\nb. After dialing, click the dial soft button to enter the call interface, and the phone call is dialed;\\nAfter entering a number on the phone, the phone is dialed. dialpad, click the dialing software button to enter the calling interface, and the mobile phone will make a call;\\nc. When the dialed number is not answered, click the hang-up soft button to interrupt the number dialing.\\nWhen the dialed number is not answered, you can click the hang up soft button to interrupt the number call.\\nd. After the call is dialed, IVI activates and switches the audio channel to the Bluetooth phone, and IVI synchronizes call operation with smartphone;\\nIVI automatically activates and switches to the mobile audio channel.\\ne. During the call, display the call status through SWP;\\nf. Driver inputs numbers in a tone mode during the call via SWP;\\ng. After the user clicks to make a roadside assistance hotline call, IVI dials the number of the roadside assistance hotline call through their mobile phone;\\n4. Exit conditions (a|b|c|d):\\na. IVI system shutdown;\\nb. Bluetooth disconnected.\\nc. User stopped call.\\nd. The other party hung up the phone.\\nNotes:\\nIf the Bluetooth phone is not connected, the user will receive a text prompt on the SWP Bluetooth phone page saying \"No paired smartphone\" when opening the phone application;\n",
              "1  30371                                                                                                                                                                                                                                                                                                                                                                                                                                                                                                                                                                                                                                                                                                                                                                                                                                                                                                                                                                                                                                                               ERA Self-diagnosis\\nFunctional Description\\n\\nSelf-diagnosis after ERA is started (in ERA state).\\n\\nEnabling conditions (a):\\n\\na. ERA is working properly;\\n\\nTrigger conditions (a):\\n\\na. In ERA state\\n\\nExecution output (a&b&c&d):\\n\\na. Every time the ignition switch is turned on (hw.KL15ON), ERA needs to activate the self-diagnosis function and conduct a self-diagnosis; ERA starts self-diagnosis when the vehicle is turned on. Self-diagnosis lasts about 30s.\\n\\nb. In ERA state, ERA performs self-diagnosis every cal.ERASelfTest (Default 1min TBD);\\n\\nb. The ERA needs to switch to internal battery power supply at cal.ERASelfTest (Default 1min TBD).\\n\\nc. Self-diagnosis includes the following items:\\n\\n- proper operation of GSM/UMTS communication module interface;\\n\\n- proper operation of GNSS receiver;\\n\\n- sufficient charging level of backup battery;\\n\\n- proper operation (correct connection) of external GNSS antenna (if installed);\\n\\n- proper operation of airbag collision CAN signal (automatic RTA detector);\\n\\n- proper operation of UIM;\\n\\n- proper operation of microphone;\\n\\n- proper operation of speaker;\\n\\nSelf-diagnosis includes the following items:\\n\\n- proper operation of GSM/UMTS communication module interface;\\n\\n- proper operation of GNSS receiver;\\n\\n- sufficient charging level of backup battery;\\n\\n- proper operation (correct connection) of external GNSS antenna (if installed);\\n\\n- proper operation of airbag crashed CAN signal (automatic RTA detector );\\n\\n- proper operation of UIM;\\n\\n- proper operation of microphone;\\n\\n- proper operation of loudspeaker.;\\n\\nd. After a fault is detected cal.ERASelfTestNum (Default 1 times TBD) within each power-on period, the ERA records the fault to the internal EEPROM; And control the System into the System Fault state, control the LED state (refer to the Ecall switch indicator drive)\\n\\nExit conditions/Exit conditions：\\n\\nNA\\n\\nNotes：\\n\\n①If the ignition is off after the software downloading is complete, the ERA shall update the software image in non-volatile memory, and then perform a self-diagnosis cycle.\\n\\n②If the ignition is on after the software downloading is complete, the ERA shall update the software image in non-volatile memory, and perform a self-diagnosis cycle after the ignition is turned off.\\n\n",
              "2  25957                                                                                                                                                                                                                                                                                                                                                                                                                                                                                                                                                                                                                                                                                                                                                                                                                                                                                                                                                                                                                                                                                                                                                                                                                                             Mute or pause function\\nFunctional Description\\nWhen playing online radio stations, pause operation can be performed, and live programs can be muted. It can only be used when the vehicle is stopped through SWP operation.\\nEnabling conditions (a & b);\\nIVI system startup;\\nUser operable display screen.\\nTrigger conditions (a | b | c):\\nWhen a valid network radio station is running, click the mute / pause soft button.\\nWhen a valid network radio station is running, mute / pause is controlled by the Switches hard button (Switches_L_Accept_Cmd (vehicle / cabin / steering-wheel / left-area / accept / command) = 0x1: Press).\\nWhen an effective network radio station is running, use the Switches hard keys to control mute/pause (Switches_L_Accept_Cmd (vehicle/cabin/steering-wheel/left-area/accept/command) = 0x1: Press).\\nWhen an effective network radio station is running, mute/pause is controlled through voice function.\\nExecution output (a&b&c):\\nWhen the network radio is playing, click the mute/pause soft button or use the Switches hard keys or voice control to mute or pause the network radio.\\nWhen the network radio is playing, click the mute/pause soft button or use the Switches hard keys or voice control to mute or pause the network radio.\\nWhen the network radio is muted or paused, click the mute/pause soft button or use the Switches hard keys or voice control to play the network radio.\\nWhen the network radio is muted or paused, click the mute/pause soft button or use the Switches hard keys or voice control to play the network radio.\\nWhen the network radio is muted, the system shuts down, and the radio automatically plays sound the next time it is powered on.\\nExit conditions (a|b)\\nSystem shutdown;\\nIVI system shutdown;\\nSwitch audio source.\\nThe SWP network radio page provides mute/pause soft buttons.\\nThe Switches provide a mute/pause hard keys.\\nThe voice recognition system can recognize mute/pause voice commands.\\nThe SWP network radio page provides mute/pause soft buttons.\\nThe Switches provide a mute/pause hard keys.\\nThe voice recognition system can recognize mute/pause voice commands.\n",
              "3  26161                                                                                                                                                                                                                                                                                                                                                                                                                                                                                                    Automatic search\\nFunctional Description\\nSupport for searching for radio stations through soft switches. It can only be used when the vehicle is stopped through SWP operation.\\nEnabling conditions (a):\\nUser can operate display screen.\\nTrigger conditions (a|b|c):\\nUsers click to enter the radio and click on the SWP \"Previous\"/\"Next\" soft button .\\nUsers play the radio and use voice to search for radio stations (specific corpus defined by the ATOM design team).\\nUser plays radio and searches for radio \"previous\"/\" next \"by voice (specific corpus defined by ATOM design team)\\nUser plays radio and clicks Switches \"previous\" (Switches_L_Left_Cmd (vehicle/cabin/steering-wheel/left-area/left/command) = 0x1: Press)/next (Switches_L_Right_Cmd (vehicle/cabin/steering-wheel/left-area/right/command) = 0x1: Press) hard keys.\\nThe user plays the radio and clicks on the Switches \"Previous\" (Switches_L_Left_Cmd (vehicle/cabin/steering-wheel/left-area/left/command) = 0x1: Press) / \"Next\" (Switches_L_Right_Cmd (vehicle/cabin/steering-wheel/left-area/right/command) = 0x1: Press) hard button.\\nExecution output (a&b&c&d):\\nClick the up automatic search radio soft button to start from the current channel/\"previous\" by voice, search up and play the first playable channel. The radio station is muted during the search process.\\nClick the up automatic search radio soft button to start from the current channel/\"previous\" by voice, search up and play the first playable channel. The radio station is muted during the search process.\\nClick the down automatic search radio soft button/voice \"next\" to start from the current channel, search up and play the first playable channel. The radio station is muted during the search process.\\nClick the down automatic search radio soft button to start from the current channel/\"next\" by voice, search down and play the first playable channel. The radio station is muted during the search process.\\nDuring the automatic search process, the frequency band is switched and the automatic search stops.\\nDuring the automatic search process, if no valid radio station is found, continue the automatic search until other action buttons are pressed. After scanning to the maximum frequency/minimum frequency (from the minimum frequency/maximum frequency), continue to automatically search until returning to the frequency position before scanning for playback.\\nDuring the automatic search process, if no valid radio station is found, continue the automatic search until other action buttons are pressed. After scanning to the maximum frequency/minimum frequency (from the minimum frequency/maximum frequency), continue to automatically search until returning to the frequency position before scanning for playback.\\nExit conditions (a|b):\\nDisplay screen off;\\nAudio source switching.\\nAudio source switching.\n",
              "4   8692  Manual dialing E-CALL\\nFunctional Description\\n\\nThe user presses the SOS button to actively trigger E-Call. ERA uploads vehicle information data to the ERA operator and uses ERA's built-in communication module to make an emergency call to the 112.\\n\\nEnabling conditions (a & b):\\n\\na. ERA is in the ERA state\\n\\nb. detected the hw.KL15ON (Power status is KL15 ON)\\n\\nTrigger conditions (a):\\n\\na. The user long presses the E-CALL button\\n\\nExecution output output（a&b&c&d&e&f&g&h）：\\n\\na. ERA detects the hw.EcalIKey signal and ERA starts tmr. EcallLongPress;ERA enters theECALL MODE-CALL CONFIRM state when cal.EcallLongPress（Default : 2s TBD）＜tmr.EcallLongPress＜cal.EcallLongPress（Default : 5s TBD）;\\n\\nb. ERA sends hw.EcallMute signal（MUTE_OUT）to IVI；\\n\\nb. ERA sends a hw.EcallMute signal（MUTE_OUT） to IVI;\\n\\nc. ERA drives speaker to play prompt sound. ③ : “Tone sound BEEP BEEP” through the hw.ERASoundOutput, and ERA sends hw.EcallIndicator to control the LED light flashes (Refer to the Ecall switch Indicator Drive section), prompting the user to cancel the call; ERA sends MSD message to the ERA operator; ERA needs to determine the network condition. When the network cannot send MSD, SMS is used to send MSD;\\n\\nc. ERA drives speaker to play prompt sound. ③ : “Tone sound BEEP BEEP” through the hw.ERASoundOutput, and ERA sends hw.EcallIndicator to control the LED light flashes (Refer to the Ecall switch Indicator Drive section), prompting the user to cancel the call; ERA sends MSD message to the ERA operator; ERA needs to determine the network condition. When the network cannot send MSD, SMS is used to send MSD;\\n\\nd.ERA plays the prompt tone \"Tone sound BEEP BEEP\", the LED light flashes at 1Hz, and tries to establish a voice call with the ERA operator. b&c&d need to be completed within 1s (according to GOST_33464 requirements).\\n\\nd. ERA plays prompt sound \"Tone sound BEEP BEEP\", meanwhile, ERA control the LED light flashes at 1Hz and attempts to establish a voice call with the ERA operator. b&c&d needs to be completed within 1 second (according to GOST33464 requirements)\\n\\ne. ERA detected that the user had short pressed the E-Call button before entering the CALL PROCESS, ERA returns to ERA status and sends hw.EcallMute (MUTE_OUT) to IVI to cancel MUTE\\n\\ne. ERA detected that the user had short pressed the E-Call button before entering the CALL PROCESS, ERA returns to ERA status and send hw.EcallMute (MUTE-OUT) to IVI to cancel MUTE\\n\\nf. After the voice channel is connected, ERA sends DTMF information to the call center and establishes a call with the ERA operator.\\n\\nf. After the voice channel is connected, ERA sends DTMF information to the ERA operator and establishes a call with the ERA operator.\\n\\ng. After the phone is connected, enter the CALL ESTABLISHED state,\\n\\nh. After being connected, users can input voice through the microphone, and ERA drives the microphone through hw.ERAVoiceInput;\\n\\nExit conditions (a|b):\\n\\nERA detects that the user short-presses the E-CALL key and cancelates the E-CALL\\n\\nThe E-CALL call ends;\\n\\nb. E-CALL is finished\\n\\nNotes:\\n\\n1. After the call is over, ERA sends hw. EcallMute(MUTE_OUT) to cancel mute to IVI; ERA enters Callback and continues for cal.CallStandby(Default 20min, TBD), ERA enters ERA-normal state after timeout and\\n"
            ],
            "text/html": [
              "\n",
              "  <div id=\"df-01ebb650-e17c-4c50-b100-5be29dc9c2cc\" class=\"colab-df-container\">\n",
              "    <div>\n",
              "<style scoped>\n",
              "    .dataframe tbody tr th:only-of-type {\n",
              "        vertical-align: middle;\n",
              "    }\n",
              "\n",
              "    .dataframe tbody tr th {\n",
              "        vertical-align: top;\n",
              "    }\n",
              "\n",
              "    .dataframe thead th {\n",
              "        text-align: right;\n",
              "    }\n",
              "</style>\n",
              "<table border=\"1\" class=\"dataframe\">\n",
              "  <thead>\n",
              "    <tr style=\"text-align: right;\">\n",
              "      <th></th>\n",
              "      <th>Number</th>\n",
              "      <th>SSTS</th>\n",
              "    </tr>\n",
              "  </thead>\n",
              "  <tbody>\n",
              "    <tr>\n",
              "      <th>0</th>\n",
              "      <td>6583</td>\n",
              "      <td>Make a call (B sample)\\nFunctional Description:\\nUsers can dial through IVI and make phone calls. Only when the vehicle is stopped can calls be made through SWP.\\n1. Enabling conditions (a&amp;b&amp;c):\\na. IVI system startup;\\nb. User can operate SWP;\\nc. Mobile Bluetooth connected.\\n2. Trigger conditions (a|b|c|d|e|f):\\na. Toggledialpad via SWP to make a call, if the driver doesn't have this number in contacts,Enter the phone number on the dialpad to make a call.\\nb. Make a call through voice commands;\\nc. Make a call through the mobile phone.\\nMake a phone call. Trigger a call via connected phone.\\nd. Toggle 'Call' menu option (where driver can see recent calls) via SWP to make a call;\\ne. Driver select contact for calling in synchronized phonebook via SWP;\\nf. IVI stores and displays the phone number of the roadside assistance hotline in advance, and users click on SWP to call the roadside assistance hotline;\\n3. Execution output (a&amp;b&amp;c&amp;d&amp;e&amp;f&amp;g):\\na. The dialpad interface has a numeric keyboard and dialing software buttons;\\nb. After dialing, click the dial soft button to enter the call interface, and the phone call is dialed;\\nAfter entering a number on the phone, the phone is dialed. dialpad, click the dialing software button to enter the calling interface, and the mobile phone will make a call;\\nc. When the dialed number is not answered, click the hang-up soft button to interrupt the number dialing.\\nWhen the dialed number is not answered, you can click the hang up soft button to interrupt the number call.\\nd. After the call is dialed, IVI activates and switches the audio channel to the Bluetooth phone, and IVI synchronizes call operation with smartphone;\\nIVI automatically activates and switches to the mobile audio channel.\\ne. During the call, display the call status through SWP;\\nf. Driver inputs numbers in a tone mode during the call via SWP;\\ng. After the user clicks to make a roadside assistance hotline call, IVI dials the number of the roadside assistance hotline call through their mobile phone;\\n4. Exit conditions (a|b|c|d):\\na. IVI system shutdown;\\nb. Bluetooth disconnected.\\nc. User stopped call.\\nd. The other party hung up the phone.\\nNotes:\\nIf the Bluetooth phone is not connected, the user will receive a text prompt on the SWP Bluetooth phone page saying \"No paired smartphone\" when opening the phone application;</td>\n",
              "    </tr>\n",
              "    <tr>\n",
              "      <th>1</th>\n",
              "      <td>30371</td>\n",
              "      <td>ERA Self-diagnosis\\nFunctional Description\\n\\nSelf-diagnosis after ERA is started (in ERA state).\\n\\nEnabling conditions (a):\\n\\na. ERA is working properly;\\n\\nTrigger conditions (a):\\n\\na. In ERA state\\n\\nExecution output (a&amp;b&amp;c&amp;d):\\n\\na. Every time the ignition switch is turned on (hw.KL15ON), ERA needs to activate the self-diagnosis function and conduct a self-diagnosis; ERA starts self-diagnosis when the vehicle is turned on. Self-diagnosis lasts about 30s.\\n\\nb. In ERA state, ERA performs self-diagnosis every cal.ERASelfTest (Default 1min TBD);\\n\\nb. The ERA needs to switch to internal battery power supply at cal.ERASelfTest (Default 1min TBD).\\n\\nc. Self-diagnosis includes the following items:\\n\\n- proper operation of GSM/UMTS communication module interface;\\n\\n- proper operation of GNSS receiver;\\n\\n- sufficient charging level of backup battery;\\n\\n- proper operation (correct connection) of external GNSS antenna (if installed);\\n\\n- proper operation of airbag collision CAN signal (automatic RTA detector);\\n\\n- proper operation of UIM;\\n\\n- proper operation of microphone;\\n\\n- proper operation of speaker;\\n\\nSelf-diagnosis includes the following items:\\n\\n- proper operation of GSM/UMTS communication module interface;\\n\\n- proper operation of GNSS receiver;\\n\\n- sufficient charging level of backup battery;\\n\\n- proper operation (correct connection) of external GNSS antenna (if installed);\\n\\n- proper operation of airbag crashed CAN signal (automatic RTA detector );\\n\\n- proper operation of UIM;\\n\\n- proper operation of microphone;\\n\\n- proper operation of loudspeaker.;\\n\\nd. After a fault is detected cal.ERASelfTestNum (Default 1 times TBD) within each power-on period, the ERA records the fault to the internal EEPROM; And control the System into the System Fault state, control the LED state (refer to the Ecall switch indicator drive)\\n\\nExit conditions/Exit conditions：\\n\\nNA\\n\\nNotes：\\n\\n①If the ignition is off after the software downloading is complete, the ERA shall update the software image in non-volatile memory, and then perform a self-diagnosis cycle.\\n\\n②If the ignition is on after the software downloading is complete, the ERA shall update the software image in non-volatile memory, and perform a self-diagnosis cycle after the ignition is turned off.\\n</td>\n",
              "    </tr>\n",
              "    <tr>\n",
              "      <th>2</th>\n",
              "      <td>25957</td>\n",
              "      <td>Mute or pause function\\nFunctional Description\\nWhen playing online radio stations, pause operation can be performed, and live programs can be muted. It can only be used when the vehicle is stopped through SWP operation.\\nEnabling conditions (a &amp; b);\\nIVI system startup;\\nUser operable display screen.\\nTrigger conditions (a | b | c):\\nWhen a valid network radio station is running, click the mute / pause soft button.\\nWhen a valid network radio station is running, mute / pause is controlled by the Switches hard button (Switches_L_Accept_Cmd (vehicle / cabin / steering-wheel / left-area / accept / command) = 0x1: Press).\\nWhen an effective network radio station is running, use the Switches hard keys to control mute/pause (Switches_L_Accept_Cmd (vehicle/cabin/steering-wheel/left-area/accept/command) = 0x1: Press).\\nWhen an effective network radio station is running, mute/pause is controlled through voice function.\\nExecution output (a&amp;b&amp;c):\\nWhen the network radio is playing, click the mute/pause soft button or use the Switches hard keys or voice control to mute or pause the network radio.\\nWhen the network radio is playing, click the mute/pause soft button or use the Switches hard keys or voice control to mute or pause the network radio.\\nWhen the network radio is muted or paused, click the mute/pause soft button or use the Switches hard keys or voice control to play the network radio.\\nWhen the network radio is muted or paused, click the mute/pause soft button or use the Switches hard keys or voice control to play the network radio.\\nWhen the network radio is muted, the system shuts down, and the radio automatically plays sound the next time it is powered on.\\nExit conditions (a|b)\\nSystem shutdown;\\nIVI system shutdown;\\nSwitch audio source.\\nThe SWP network radio page provides mute/pause soft buttons.\\nThe Switches provide a mute/pause hard keys.\\nThe voice recognition system can recognize mute/pause voice commands.\\nThe SWP network radio page provides mute/pause soft buttons.\\nThe Switches provide a mute/pause hard keys.\\nThe voice recognition system can recognize mute/pause voice commands.</td>\n",
              "    </tr>\n",
              "    <tr>\n",
              "      <th>3</th>\n",
              "      <td>26161</td>\n",
              "      <td>Automatic search\\nFunctional Description\\nSupport for searching for radio stations through soft switches. It can only be used when the vehicle is stopped through SWP operation.\\nEnabling conditions (a):\\nUser can operate display screen.\\nTrigger conditions (a|b|c):\\nUsers click to enter the radio and click on the SWP \"Previous\"/\"Next\" soft button .\\nUsers play the radio and use voice to search for radio stations (specific corpus defined by the ATOM design team).\\nUser plays radio and searches for radio \"previous\"/\" next \"by voice (specific corpus defined by ATOM design team)\\nUser plays radio and clicks Switches \"previous\" (Switches_L_Left_Cmd (vehicle/cabin/steering-wheel/left-area/left/command) = 0x1: Press)/next (Switches_L_Right_Cmd (vehicle/cabin/steering-wheel/left-area/right/command) = 0x1: Press) hard keys.\\nThe user plays the radio and clicks on the Switches \"Previous\" (Switches_L_Left_Cmd (vehicle/cabin/steering-wheel/left-area/left/command) = 0x1: Press) / \"Next\" (Switches_L_Right_Cmd (vehicle/cabin/steering-wheel/left-area/right/command) = 0x1: Press) hard button.\\nExecution output (a&amp;b&amp;c&amp;d):\\nClick the up automatic search radio soft button to start from the current channel/\"previous\" by voice, search up and play the first playable channel. The radio station is muted during the search process.\\nClick the up automatic search radio soft button to start from the current channel/\"previous\" by voice, search up and play the first playable channel. The radio station is muted during the search process.\\nClick the down automatic search radio soft button/voice \"next\" to start from the current channel, search up and play the first playable channel. The radio station is muted during the search process.\\nClick the down automatic search radio soft button to start from the current channel/\"next\" by voice, search down and play the first playable channel. The radio station is muted during the search process.\\nDuring the automatic search process, the frequency band is switched and the automatic search stops.\\nDuring the automatic search process, if no valid radio station is found, continue the automatic search until other action buttons are pressed. After scanning to the maximum frequency/minimum frequency (from the minimum frequency/maximum frequency), continue to automatically search until returning to the frequency position before scanning for playback.\\nDuring the automatic search process, if no valid radio station is found, continue the automatic search until other action buttons are pressed. After scanning to the maximum frequency/minimum frequency (from the minimum frequency/maximum frequency), continue to automatically search until returning to the frequency position before scanning for playback.\\nExit conditions (a|b):\\nDisplay screen off;\\nAudio source switching.\\nAudio source switching.</td>\n",
              "    </tr>\n",
              "    <tr>\n",
              "      <th>4</th>\n",
              "      <td>8692</td>\n",
              "      <td>Manual dialing E-CALL\\nFunctional Description\\n\\nThe user presses the SOS button to actively trigger E-Call. ERA uploads vehicle information data to the ERA operator and uses ERA's built-in communication module to make an emergency call to the 112.\\n\\nEnabling conditions (a &amp; b):\\n\\na. ERA is in the ERA state\\n\\nb. detected the hw.KL15ON (Power status is KL15 ON)\\n\\nTrigger conditions (a):\\n\\na. The user long presses the E-CALL button\\n\\nExecution output output（a&amp;b&amp;c&amp;d&amp;e&amp;f&amp;g&amp;h）：\\n\\na. ERA detects the hw.EcalIKey signal and ERA starts tmr. EcallLongPress;ERA enters theECALL MODE-CALL CONFIRM state when cal.EcallLongPress（Default : 2s TBD）＜tmr.EcallLongPress＜cal.EcallLongPress（Default : 5s TBD）;\\n\\nb. ERA sends hw.EcallMute signal（MUTE_OUT）to IVI；\\n\\nb. ERA sends a hw.EcallMute signal（MUTE_OUT） to IVI;\\n\\nc. ERA drives speaker to play prompt sound. ③ : “Tone sound BEEP BEEP” through the hw.ERASoundOutput, and ERA sends hw.EcallIndicator to control the LED light flashes (Refer to the Ecall switch Indicator Drive section), prompting the user to cancel the call; ERA sends MSD message to the ERA operator; ERA needs to determine the network condition. When the network cannot send MSD, SMS is used to send MSD;\\n\\nc. ERA drives speaker to play prompt sound. ③ : “Tone sound BEEP BEEP” through the hw.ERASoundOutput, and ERA sends hw.EcallIndicator to control the LED light flashes (Refer to the Ecall switch Indicator Drive section), prompting the user to cancel the call; ERA sends MSD message to the ERA operator; ERA needs to determine the network condition. When the network cannot send MSD, SMS is used to send MSD;\\n\\nd.ERA plays the prompt tone \"Tone sound BEEP BEEP\", the LED light flashes at 1Hz, and tries to establish a voice call with the ERA operator. b&amp;c&amp;d need to be completed within 1s (according to GOST_33464 requirements).\\n\\nd. ERA plays prompt sound \"Tone sound BEEP BEEP\", meanwhile, ERA control the LED light flashes at 1Hz and attempts to establish a voice call with the ERA operator. b&amp;c&amp;d needs to be completed within 1 second (according to GOST33464 requirements)\\n\\ne. ERA detected that the user had short pressed the E-Call button before entering the CALL PROCESS, ERA returns to ERA status and sends hw.EcallMute (MUTE_OUT) to IVI to cancel MUTE\\n\\ne. ERA detected that the user had short pressed the E-Call button before entering the CALL PROCESS, ERA returns to ERA status and send hw.EcallMute (MUTE-OUT) to IVI to cancel MUTE\\n\\nf. After the voice channel is connected, ERA sends DTMF information to the call center and establishes a call with the ERA operator.\\n\\nf. After the voice channel is connected, ERA sends DTMF information to the ERA operator and establishes a call with the ERA operator.\\n\\ng. After the phone is connected, enter the CALL ESTABLISHED state,\\n\\nh. After being connected, users can input voice through the microphone, and ERA drives the microphone through hw.ERAVoiceInput;\\n\\nExit conditions (a|b):\\n\\nERA detects that the user short-presses the E-CALL key and cancelates the E-CALL\\n\\nThe E-CALL call ends;\\n\\nb. E-CALL is finished\\n\\nNotes:\\n\\n1. After the call is over, ERA sends hw. EcallMute(MUTE_OUT) to cancel mute to IVI; ERA enters Callback and continues for cal.CallStandby(Default 20min, TBD), ERA enters ERA-normal state after timeout and\\n</td>\n",
              "    </tr>\n",
              "  </tbody>\n",
              "</table>\n",
              "</div>\n",
              "    <div class=\"colab-df-buttons\">\n",
              "\n",
              "  <div class=\"colab-df-container\">\n",
              "    <button class=\"colab-df-convert\" onclick=\"convertToInteractive('df-01ebb650-e17c-4c50-b100-5be29dc9c2cc')\"\n",
              "            title=\"Convert this dataframe to an interactive table.\"\n",
              "            style=\"display:none;\">\n",
              "\n",
              "  <svg xmlns=\"http://www.w3.org/2000/svg\" height=\"24px\" viewBox=\"0 -960 960 960\">\n",
              "    <path d=\"M120-120v-720h720v720H120Zm60-500h600v-160H180v160Zm220 220h160v-160H400v160Zm0 220h160v-160H400v160ZM180-400h160v-160H180v160Zm440 0h160v-160H620v160ZM180-180h160v-160H180v160Zm440 0h160v-160H620v160Z\"/>\n",
              "  </svg>\n",
              "    </button>\n",
              "\n",
              "  <style>\n",
              "    .colab-df-container {\n",
              "      display:flex;\n",
              "      gap: 12px;\n",
              "    }\n",
              "\n",
              "    .colab-df-convert {\n",
              "      background-color: #E8F0FE;\n",
              "      border: none;\n",
              "      border-radius: 50%;\n",
              "      cursor: pointer;\n",
              "      display: none;\n",
              "      fill: #1967D2;\n",
              "      height: 32px;\n",
              "      padding: 0 0 0 0;\n",
              "      width: 32px;\n",
              "    }\n",
              "\n",
              "    .colab-df-convert:hover {\n",
              "      background-color: #E2EBFA;\n",
              "      box-shadow: 0px 1px 2px rgba(60, 64, 67, 0.3), 0px 1px 3px 1px rgba(60, 64, 67, 0.15);\n",
              "      fill: #174EA6;\n",
              "    }\n",
              "\n",
              "    .colab-df-buttons div {\n",
              "      margin-bottom: 4px;\n",
              "    }\n",
              "\n",
              "    [theme=dark] .colab-df-convert {\n",
              "      background-color: #3B4455;\n",
              "      fill: #D2E3FC;\n",
              "    }\n",
              "\n",
              "    [theme=dark] .colab-df-convert:hover {\n",
              "      background-color: #434B5C;\n",
              "      box-shadow: 0px 1px 3px 1px rgba(0, 0, 0, 0.15);\n",
              "      filter: drop-shadow(0px 1px 2px rgba(0, 0, 0, 0.3));\n",
              "      fill: #FFFFFF;\n",
              "    }\n",
              "  </style>\n",
              "\n",
              "    <script>\n",
              "      const buttonEl =\n",
              "        document.querySelector('#df-01ebb650-e17c-4c50-b100-5be29dc9c2cc button.colab-df-convert');\n",
              "      buttonEl.style.display =\n",
              "        google.colab.kernel.accessAllowed ? 'block' : 'none';\n",
              "\n",
              "      async function convertToInteractive(key) {\n",
              "        const element = document.querySelector('#df-01ebb650-e17c-4c50-b100-5be29dc9c2cc');\n",
              "        const dataTable =\n",
              "          await google.colab.kernel.invokeFunction('convertToInteractive',\n",
              "                                                    [key], {});\n",
              "        if (!dataTable) return;\n",
              "\n",
              "        const docLinkHtml = 'Like what you see? Visit the ' +\n",
              "          '<a target=\"_blank\" href=https://colab.research.google.com/notebooks/data_table.ipynb>data table notebook</a>'\n",
              "          + ' to learn more about interactive tables.';\n",
              "        element.innerHTML = '';\n",
              "        dataTable['output_type'] = 'display_data';\n",
              "        await google.colab.output.renderOutput(dataTable, element);\n",
              "        const docLink = document.createElement('div');\n",
              "        docLink.innerHTML = docLinkHtml;\n",
              "        element.appendChild(docLink);\n",
              "      }\n",
              "    </script>\n",
              "  </div>\n",
              "\n",
              "\n",
              "<div id=\"df-18f11c11-1ce5-426b-8155-06e7faee168f\">\n",
              "  <button class=\"colab-df-quickchart\" onclick=\"quickchart('df-18f11c11-1ce5-426b-8155-06e7faee168f')\"\n",
              "            title=\"Suggest charts\"\n",
              "            style=\"display:none;\">\n",
              "\n",
              "<svg xmlns=\"http://www.w3.org/2000/svg\" height=\"24px\"viewBox=\"0 0 24 24\"\n",
              "     width=\"24px\">\n",
              "    <g>\n",
              "        <path d=\"M19 3H5c-1.1 0-2 .9-2 2v14c0 1.1.9 2 2 2h14c1.1 0 2-.9 2-2V5c0-1.1-.9-2-2-2zM9 17H7v-7h2v7zm4 0h-2V7h2v10zm4 0h-2v-4h2v4z\"/>\n",
              "    </g>\n",
              "</svg>\n",
              "  </button>\n",
              "\n",
              "<style>\n",
              "  .colab-df-quickchart {\n",
              "      --bg-color: #E8F0FE;\n",
              "      --fill-color: #1967D2;\n",
              "      --hover-bg-color: #E2EBFA;\n",
              "      --hover-fill-color: #174EA6;\n",
              "      --disabled-fill-color: #AAA;\n",
              "      --disabled-bg-color: #DDD;\n",
              "  }\n",
              "\n",
              "  [theme=dark] .colab-df-quickchart {\n",
              "      --bg-color: #3B4455;\n",
              "      --fill-color: #D2E3FC;\n",
              "      --hover-bg-color: #434B5C;\n",
              "      --hover-fill-color: #FFFFFF;\n",
              "      --disabled-bg-color: #3B4455;\n",
              "      --disabled-fill-color: #666;\n",
              "  }\n",
              "\n",
              "  .colab-df-quickchart {\n",
              "    background-color: var(--bg-color);\n",
              "    border: none;\n",
              "    border-radius: 50%;\n",
              "    cursor: pointer;\n",
              "    display: none;\n",
              "    fill: var(--fill-color);\n",
              "    height: 32px;\n",
              "    padding: 0;\n",
              "    width: 32px;\n",
              "  }\n",
              "\n",
              "  .colab-df-quickchart:hover {\n",
              "    background-color: var(--hover-bg-color);\n",
              "    box-shadow: 0 1px 2px rgba(60, 64, 67, 0.3), 0 1px 3px 1px rgba(60, 64, 67, 0.15);\n",
              "    fill: var(--button-hover-fill-color);\n",
              "  }\n",
              "\n",
              "  .colab-df-quickchart-complete:disabled,\n",
              "  .colab-df-quickchart-complete:disabled:hover {\n",
              "    background-color: var(--disabled-bg-color);\n",
              "    fill: var(--disabled-fill-color);\n",
              "    box-shadow: none;\n",
              "  }\n",
              "\n",
              "  .colab-df-spinner {\n",
              "    border: 2px solid var(--fill-color);\n",
              "    border-color: transparent;\n",
              "    border-bottom-color: var(--fill-color);\n",
              "    animation:\n",
              "      spin 1s steps(1) infinite;\n",
              "  }\n",
              "\n",
              "  @keyframes spin {\n",
              "    0% {\n",
              "      border-color: transparent;\n",
              "      border-bottom-color: var(--fill-color);\n",
              "      border-left-color: var(--fill-color);\n",
              "    }\n",
              "    20% {\n",
              "      border-color: transparent;\n",
              "      border-left-color: var(--fill-color);\n",
              "      border-top-color: var(--fill-color);\n",
              "    }\n",
              "    30% {\n",
              "      border-color: transparent;\n",
              "      border-left-color: var(--fill-color);\n",
              "      border-top-color: var(--fill-color);\n",
              "      border-right-color: var(--fill-color);\n",
              "    }\n",
              "    40% {\n",
              "      border-color: transparent;\n",
              "      border-right-color: var(--fill-color);\n",
              "      border-top-color: var(--fill-color);\n",
              "    }\n",
              "    60% {\n",
              "      border-color: transparent;\n",
              "      border-right-color: var(--fill-color);\n",
              "    }\n",
              "    80% {\n",
              "      border-color: transparent;\n",
              "      border-right-color: var(--fill-color);\n",
              "      border-bottom-color: var(--fill-color);\n",
              "    }\n",
              "    90% {\n",
              "      border-color: transparent;\n",
              "      border-bottom-color: var(--fill-color);\n",
              "    }\n",
              "  }\n",
              "</style>\n",
              "\n",
              "  <script>\n",
              "    async function quickchart(key) {\n",
              "      const quickchartButtonEl =\n",
              "        document.querySelector('#' + key + ' button');\n",
              "      quickchartButtonEl.disabled = true;  // To prevent multiple clicks.\n",
              "      quickchartButtonEl.classList.add('colab-df-spinner');\n",
              "      try {\n",
              "        const charts = await google.colab.kernel.invokeFunction(\n",
              "            'suggestCharts', [key], {});\n",
              "      } catch (error) {\n",
              "        console.error('Error during call to suggestCharts:', error);\n",
              "      }\n",
              "      quickchartButtonEl.classList.remove('colab-df-spinner');\n",
              "      quickchartButtonEl.classList.add('colab-df-quickchart-complete');\n",
              "    }\n",
              "    (() => {\n",
              "      let quickchartButtonEl =\n",
              "        document.querySelector('#df-18f11c11-1ce5-426b-8155-06e7faee168f button');\n",
              "      quickchartButtonEl.style.display =\n",
              "        google.colab.kernel.accessAllowed ? 'block' : 'none';\n",
              "    })();\n",
              "  </script>\n",
              "</div>\n",
              "    </div>\n",
              "  </div>\n"
            ],
            "application/vnd.google.colaboratory.intrinsic+json": {
              "type": "dataframe",
              "variable_name": "df_pred",
              "summary": "{\n  \"name\": \"df_pred\",\n  \"rows\": 11,\n  \"fields\": [\n    {\n      \"column\": \"Number\",\n      \"properties\": {\n        \"dtype\": \"string\",\n        \"num_unique_values\": 11,\n        \"samples\": [\n          \"8800\",\n          \"6583\",\n          \"8604\"\n        ],\n        \"semantic_type\": \"\",\n        \"description\": \"\"\n      }\n    },\n    {\n      \"column\": \"SSTS\",\n      \"properties\": {\n        \"dtype\": \"string\",\n        \"num_unique_values\": 11,\n        \"samples\": [\n          \"Receiving Call Notifications\\nFunctional Description:\\nWhen a mobile phone calls, SWP pops up a Bluetooth phone dialog box, if the number has been saved in the phone address book, display the call number and name; if not saved in the phone address book, only display the call number, and play the ring tone of the call;\\nEnabling conditions (a & b):\\nIVI system startup;\\nBluetooth phone connected.\\nTrigger conditions (a):\\nIncoming Phone Call.\\nExecution output ((a|b) & c):\\nSWP pops up a Bluetooth phone dialog box, displaying the call number and name (if the number has been saved in the phone address book). IVI automatically activates and switches to the mobile audio channel, and plays the incoming ringtone (if the incoming ringtone input of the mobile phone can be received (depending on the mobile phone), use the incoming call ringtone provided by the mobile phone, otherwise use the IVI default ringtone).\\nThe Bluetooth phone dialog box pops up on the SWP, displaying the incoming number and name (if the number has been saved in the phonebook), IVI automatically activates and switches to the mobile audio channel, and playing the incoming ringtone (Front speakers). (If the incoming ringtone input of the mobile phone can be received (depending on the phone), use the incoming call ringtone provided by the phone, otherwise use the IVI default ringtone)\\uff1b\\nIVI_IFT sends the incoming call status signal vehicle/cabin/lights/atmosphere/ambient-callin/req.\\nExit conditions/Exit conditions (a|b|c|d): Answer the incoming call.\\nAccept the call End of incoming call.\\nReject the call. Miss the call. (The other party hung up the call or the call timed out)\\nMiss the call (because CO stopped outcoming call or because of timeout).\\nBT connection loss or BT switch OFF.\",\n          \"Make a call (B sample)\\nFunctional Description:\\nUsers can dial through IVI and make phone calls. Only when the vehicle is stopped can calls be made through SWP.\\n1. Enabling conditions (a&b&c):\\na. IVI system startup;\\nb. User can operate SWP;\\nc. Mobile Bluetooth connected.\\n2. Trigger conditions (a|b|c|d|e|f):\\na. Toggledialpad via SWP to make a call, if the driver doesn't have this number in contacts,Enter the phone number on the dialpad to make a call.\\nb. Make a call through voice commands;\\nc. Make a call through the mobile phone.\\nMake a phone call. Trigger a call via connected phone.\\nd. Toggle 'Call' menu option (where driver can see recent calls) via SWP to make a call;\\ne. Driver select contact for calling in synchronized phonebook via SWP;\\nf. IVI stores and displays the phone number of the roadside assistance hotline in advance, and users click on SWP to call the roadside assistance hotline;\\n3. Execution output (a&b&c&d&e&f&g):\\na. The dialpad interface has a numeric keyboard and dialing software buttons;\\nb. After dialing, click the dial soft button to enter the call interface, and the phone call is dialed;\\nAfter entering a number on the phone, the phone is dialed. dialpad, click the dialing software button to enter the calling interface, and the mobile phone will make a call;\\nc. When the dialed number is not answered, click the hang-up soft button to interrupt the number dialing.\\nWhen the dialed number is not answered, you can click the hang up soft button to interrupt the number call.\\nd. After the call is dialed, IVI activates and switches the audio channel to the Bluetooth phone, and IVI synchronizes call operation with smartphone;\\nIVI automatically activates and switches to the mobile audio channel.\\ne. During the call, display the call status through SWP;\\nf. Driver inputs numbers in a tone mode during the call via SWP;\\ng. After the user clicks to make a roadside assistance hotline call, IVI dials the number of the roadside assistance hotline call through their mobile phone;\\n4. Exit conditions (a|b|c|d):\\na. IVI system shutdown;\\nb. Bluetooth disconnected.\\nc. User stopped call.\\nd. The other party hung up the phone.\\nNotes:\\nIf the Bluetooth phone is not connected, the user will receive a text prompt on the SWP Bluetooth phone page saying \\\"No paired smartphone\\\" when opening the phone application;\",\n          \"Switch music sources\\nFunctional Description\\nUsers can switch music sources through the SWP or voice. It can only be used when the vehicle is stopped through SWP operation.\\nEnabling conditions (a & b):\\nIVI system startup;\\nUsers can operate the SWP.\\nTrigger conditions (a | b):\\nThe user clicks on the SWP to select the corresponding audio source.\\nThe user wakes up the voice assistant and switches the audio source through voice commands.\\nExecution output (a):\\nThe system switches the corresponding audio source.\\nThe system switches the corresponding audio source.\\nExit conditions (a):\\nIVI system shutdown;\\nThe SWP can switch between network/USB/Bluetooth music interfaces.\\nThe voice recognition system can recognize audio source switching commands.\\nThe SWP can switch between network/USB/Bluetooth music interfaces.\\nThe voice recognition system can recognize audio source switching commands.\"\n        ],\n        \"semantic_type\": \"\",\n        \"description\": \"\"\n      }\n    }\n  ]\n}"
            }
          },
          "metadata": {},
          "execution_count": 137
        }
      ]
    },
    {
      "cell_type": "markdown",
      "source": [
        "### Соединяем таблицы SSTS и HMI и с Train"
      ],
      "metadata": {
        "id": "rgAzb-F2r9au"
      }
    },
    {
      "cell_type": "code",
      "source": [
        "df_res = pd.merge(df_pred, df_task, on ='Number')\n"
      ],
      "metadata": {
        "id": "nNXz0-2TqRjv"
      },
      "execution_count": null,
      "outputs": []
    },
    {
      "cell_type": "code",
      "source": [
        "# Define the path to the file containing Train\n",
        "directory = '/content/drive/MyDrive/Цифровой прорыв/train Атом/train data/train_data_markup.xlsx'\n",
        "\n",
        "# read Excel\n",
        "df_train = pd.read_excel(directory)\n"
      ],
      "metadata": {
        "id": "AOddsYjzfeQ5"
      },
      "execution_count": null,
      "outputs": []
    },
    {
      "cell_type": "code",
      "source": [
        "df_train.info()"
      ],
      "metadata": {
        "colab": {
          "base_uri": "https://localhost:8080/"
        },
        "id": "jbzJWF4IvKSs",
        "outputId": "6004e1ae-50bc-4c29-bae6-eadbb6048d51"
      },
      "execution_count": null,
      "outputs": [
        {
          "output_type": "stream",
          "name": "stdout",
          "text": [
            "<class 'pandas.core.frame.DataFrame'>\n",
            "RangeIndex: 12 entries, 0 to 11\n",
            "Data columns (total 5 columns):\n",
            " #   Column            Non-Null Count  Dtype \n",
            "---  ------            --------------  ----- \n",
            " 0   Number            12 non-null     int64 \n",
            " 1   Name              12 non-null     object\n",
            " 2   Differences       12 non-null     object\n",
            " 3   Description       12 non-null     object\n",
            " 4   Complience Level  11 non-null     object\n",
            "dtypes: int64(1), object(4)\n",
            "memory usage: 608.0+ bytes\n"
          ]
        }
      ]
    },
    {
      "cell_type": "code",
      "source": [
        "df_res.info()"
      ],
      "metadata": {
        "colab": {
          "base_uri": "https://localhost:8080/"
        },
        "id": "xwNSj0j2vMJW",
        "outputId": "a8bb411f-099b-4d27-9109-e4db4eb1f7fd"
      },
      "execution_count": null,
      "outputs": [
        {
          "output_type": "stream",
          "name": "stdout",
          "text": [
            "<class 'pandas.core.frame.DataFrame'>\n",
            "RangeIndex: 11 entries, 0 to 10\n",
            "Data columns (total 3 columns):\n",
            " #   Column  Non-Null Count  Dtype \n",
            "---  ------  --------------  ----- \n",
            " 0   Number  11 non-null     object\n",
            " 1   SSTS    11 non-null     object\n",
            " 2   HMI     11 non-null     object\n",
            "dtypes: object(3)\n",
            "memory usage: 392.0+ bytes\n"
          ]
        }
      ]
    },
    {
      "cell_type": "code",
      "source": [
        "df_res['Number'] = df_res['Number'].astype('int64')\n",
        "df_res.info()"
      ],
      "metadata": {
        "colab": {
          "base_uri": "https://localhost:8080/"
        },
        "id": "PygyTUCPvOIu",
        "outputId": "cb540c95-49b3-4f76-84b8-48ba15678355"
      },
      "execution_count": null,
      "outputs": [
        {
          "output_type": "stream",
          "name": "stdout",
          "text": [
            "<class 'pandas.core.frame.DataFrame'>\n",
            "RangeIndex: 11 entries, 0 to 10\n",
            "Data columns (total 3 columns):\n",
            " #   Column  Non-Null Count  Dtype \n",
            "---  ------  --------------  ----- \n",
            " 0   Number  11 non-null     int64 \n",
            " 1   SSTS    11 non-null     object\n",
            " 2   HMI     11 non-null     object\n",
            "dtypes: int64(1), object(2)\n",
            "memory usage: 392.0+ bytes\n"
          ]
        }
      ]
    },
    {
      "cell_type": "code",
      "source": [
        "\n",
        "# merge tables to get the final DF\n",
        "df = pd.merge(df_train, df_res, on ='Number')\n",
        "df.head()"
      ],
      "metadata": {
        "colab": {
          "base_uri": "https://localhost:8080/",
          "height": 1000
        },
        "id": "xktSzm9msj22",
        "outputId": "56b9757c-bb94-4321-f65b-119bc42dc5d4"
      },
      "execution_count": null,
      "outputs": [
        {
          "output_type": "execute_result",
          "data": {
            "text/plain": [
              "   Number                                                     Name                                                                                                                                                                                                                                                                                                                                                                                                         Differences                                                                                                                                                                                                                                                                                                                                                                                                                                                                                                        Description Complience Level                                                                                                                                                                                                                                                                                                                                                                                                                                                                                                                                                                                                                                                                                                                                                                                                                                                                                                                                                                                                                                                                                                                                                                                                                                                                                                                                                                                                                                                                                                                                                                                                                                                                                                                                                                                                                                                                                                                                                                                                                                                                                                                                                                                                                                                                                                                                                                                             SSTS                                                                                                                                                                                                                                                                                                                                                                                                                                                                                                                                                                                                                                                                                                                                                                                                                                                                                                                                                                                                                                                                                                                                                                                                                                                                                                                                                                                                                                                                                                      HMI\n",
              "0    8800                             Receiving Call Notifications  SSTS misses the following content:\\n The output device is different, instead of “car speakers” it says “mobile audio channel”\\n The output of the status on the HUD and SWP is not specified, only the sending of a signal is specified.\\n There is no indication of the methods for accepting/rejecting calls - buttons on the steering wheel and voice assistant.\\n There is no functionality to turn off music.                                                                                                                                                                                                          HMX description:\\nThe driver can accept or reject the call using the front buttons on the steering wheel (in_10) or via the voice assistant command (in_24). \\nIf the music is played on IVI via out_24, then the music gets quieter to allow the incoming call sound to be heard at a comfortable level.               LC                                                                                                                                                                                                                                                                                                                                                                                                                                                                                                                                             Receiving Call Notifications\\nFunctional Description:\\nWhen a mobile phone calls, SWP pops up a Bluetooth phone dialog box, if the number has been saved in the phone address book, display the call number and name; if not saved in the phone address book, only display the call number, and play the ring tone of the call;\\nEnabling conditions (a & b):\\nIVI system startup;\\nBluetooth phone connected.\\nTrigger conditions (a):\\nIncoming Phone Call.\\nExecution output ((a|b) & c):\\nSWP pops up a Bluetooth phone dialog box, displaying the call number and name (if the number has been saved in the phone address book). IVI automatically activates and switches to the mobile audio channel, and plays the incoming ringtone (if the incoming ringtone input of the mobile phone can be received (depending on the mobile phone), use the incoming call ringtone provided by the mobile phone, otherwise use the IVI default ringtone).\\nThe Bluetooth phone dialog box pops up on the SWP, displaying the incoming number and name (if the number has been saved in the phonebook), IVI automatically activates and switches to the mobile audio channel, and playing the incoming ringtone (Front speakers). (If the incoming ringtone input of the mobile phone can be received (depending on the phone), use the incoming call ringtone provided by the phone, otherwise use the IVI default ringtone)；\\nIVI_IFT sends the incoming call status signal vehicle/cabin/lights/atmosphere/ambient-callin/req.\\nExit conditions/Exit conditions (a|b|c|d): Answer the incoming call.\\nAccept the call End of incoming call.\\nReject the call. Miss the call. (The other party hung up the call or the call timed out)\\nMiss the call (because CO stopped outcoming call or because of timeout).\\nBT connection loss or BT switch OFF.              [I-8800]  Receiving Call Notifications\\nPreconditions\\nEntertainment system is ready. in_2 \\nThe driver's smartphone is connected to the vehicle's system via Bluetooth (in_32)[I-6323] Pairing a Mobile Phone. \\nMain Scenario:\\nAn incoming call is received on the driver's phone (in_5). \\nThe caller's information (name from the contact list or phone number) is displayed on the SWP Android (out_2). \\nThe interior ambient light (out_12) changes color to signal the incoming call. \\nAn incoming call sound is played through the vehicle's speakers (out_24). \\nThe driver can accept or reject the call using the front buttons on the steering wheel (in_10) or via the voice assistant command (in_24). \\nPostconditions:\\nIf the call is accepted, the interior ambient light changes color, the call status is displayed on the HUD and SWP Android, and the vehicle's microphone (in_24) and speakers out_24 are used for the call. \\nIf the call is rejected, the interior ambient light returns to its original color, the call notification is removed from the HUD and SWP Android, and a call rejection sound is played via out_24. \\nAlternative Scenario:\\nIf the caller's number is not saved in the smartphone's contacts, the HUD and SWP Android display the phone number or \"Unknown\" if the number is hidden. \\nIf the music is played on IVI via out_24, then the music gets quieter to allow the incoming call sound to be heard at a comfortable level. \n",
              "1   31523                  Adding Internet Radio to Favorites List                                                                                                                    UC misses the following content:\\nUsers can set local music as favorites and view corresponding song information. This function is applicable to USB music, and online music. It can only be used when the vehicle is stopped through SWP operation.\\nUC uses only with Internet Radio interface                                                                                                                                                  Users can add or remove songs from favorites and view detailed song information.\\nUsers can add or remove a radio station using a single interface icon.\\nIf obtaining song information fails, only the song name will be displayed.\\nIf the USB drive is unplugged or a song is deleted from the USB drive, the song in the favorites list will be grayed out.\\n               LC                                                                                                                                                                                                                                                                                                                                                    Favorite Song operation\\nFunctional Description\\nUsers can set local music as favorites and view corresponding song information. This function is applicable to USB music, and online music. It can only be used when the vehicle is stopped through SWP operation.\\nEnabling conditions (a & b):\\nIVI system startup;\\nUsers can operate the SWP;\\nTrigger conditions (a):\\nEnter the music player and select USB music or network music. Click on the \"Favorite Songs\" or \"View Song Details\" soft button.\\nExecution output (a & b & c & d & e):\\nAfter setting a song as favorite, you can find the song in the favorites list. The favorite list is a collection of radio, USB music, and online music.\\nAfter setting a song as a favorite, you can find it in the favorite list. The favorite list is a collection of radio, USB music, and online music.\\nA song that has been set as a favorite can be unset. After cancellation, the song disappears from the favorite list.\\nThe favorite setting is memorized after the car is powered off.\\nStore favorites list before IVI powered off.\\nView the song information without affecting the playback/pause status, and display the corresponding song information, including the song name, performer, and album name.\\nIf the song information fails to be obtained, only the song name is displayed.\\nIf obtaining song information fails, only the song name will be displayed.\\nIf the USB drive is unplugged or a song is deleted from the USB drive, the song in the favorites list will be grayed out.\\nExit conditions (a)\\nDisplay screen off;\\nIVI shutdown;\\nSWP music player local music playback page, network music playback page, providing software buttons for collecting and viewing song details.\\nSWP music player local music playback page, network music playback page, providing software buttons for collecting and viewing song details.\\nThe SWP music player has a music collection interface and provides a software button to cancel the collection.                                                                                                                                                                                                                                                                                                                                                                                                                                                                                                                                                                                                                                                                                                                          [I-31523]  Adding Internet Radio to Favorites List\\nDescription: \\nUse Case: Adding Internet Radio to Favorites List\\n\\nGoal: User wants to add favorites internet radio to enlighten the access to his favorite music/info\\n\\nActors:\\nCar User \\nIVI \\nPreconditions:\\nUser in in the Internet Radio list \\nTriggers:\\nUser selects to add the Radio via in_2/in_5 \\nMain Scenario:\\nThe user press on the UI interface \"Add to Favorites\" icon \\nPostconditions:\\nThe selected internet radio station is added to the user's personalized favorites list. \\nRequirenments:\\nUser must be able to navigate to the Favourite list from Internet Radio interface \\nUser must be able to 'Remove from favorites' the Internet Radio station by pressing the same interface icon \n",
              "2   25957                        Mute/unmute the FM Radio playback                                                                                                                                                                                                                  There is no soft button icon and description in HMI.\\nThe function is switched using the control knob on the steering wheel\\nThe voice recognition system can recognize mute/pause voice commands.                                                                                                                                                                                                                                                                                                                                                                                                                                                   The user clicks on the radio and clicks on the mute soft button.               PC                                                                                                                                                                                Mute or pause function\\nFunctional Description\\nWhen playing online radio stations, pause operation can be performed, and live programs can be muted. It can only be used when the vehicle is stopped through SWP operation.\\nEnabling conditions (a & b);\\nIVI system startup;\\nUser operable display screen.\\nTrigger conditions (a | b | c):\\nWhen a valid network radio station is running, click the mute / pause soft button.\\nWhen a valid network radio station is running, mute / pause is controlled by the Switches hard button (Switches_L_Accept_Cmd (vehicle / cabin / steering-wheel / left-area / accept / command) = 0x1: Press).\\nWhen an effective network radio station is running, use the Switches hard keys to control mute/pause (Switches_L_Accept_Cmd (vehicle/cabin/steering-wheel/left-area/accept/command) = 0x1: Press).\\nWhen an effective network radio station is running, mute/pause is controlled through voice function.\\nExecution output (a&b&c):\\nWhen the network radio is playing, click the mute/pause soft button or use the Switches hard keys or voice control to mute or pause the network radio.\\nWhen the network radio is playing, click the mute/pause soft button or use the Switches hard keys or voice control to mute or pause the network radio.\\nWhen the network radio is muted or paused, click the mute/pause soft button or use the Switches hard keys or voice control to play the network radio.\\nWhen the network radio is muted or paused, click the mute/pause soft button or use the Switches hard keys or voice control to play the network radio.\\nWhen the network radio is muted, the system shuts down, and the radio automatically plays sound the next time it is powered on.\\nExit conditions (a|b)\\nSystem shutdown;\\nIVI system shutdown;\\nSwitch audio source.\\nThe SWP network radio page provides mute/pause soft buttons.\\nThe Switches provide a mute/pause hard keys.\\nThe voice recognition system can recognize mute/pause voice commands.\\nThe SWP network radio page provides mute/pause soft buttons.\\nThe Switches provide a mute/pause hard keys.\\nThe voice recognition system can recognize mute/pause voice commands.                                                                                                                                                                                                                                                                                                                                                                                                                                                                                                                                                                                                                                                                                                                                                                                                                                                                                                                                                                                                                                                                                                                                                        [I-25957]  Mute/unmute the FM Radio playback\\nDescription: \\nPreconditions:\\nUser is playing FM Radio \\nMain Scenario:\\n​​​User clicks on Mute/Unmute button via in_2/in_5 \\nFM Radio sound output is Muted/Unmuted \\nPostconditions:\\nThe user Mutes/Unmutes the FM Radio playback \\nGoal: \"Users are able to mute/unmute the FM Radio playback\"\n",
              "3   11467  Revoke access to the vehicle from a driver or passenger                                                                                                                                                                                                                                                                                                                                                                                                                   -  The driver opens the ATOM application on his in_5. Smart phone and goes to the section “Access Management”\\n The system displayed the list with active drivers/passengers\\n The owner selects the \"Revoke access\" option for delete the specific profile.\\n When connecting to the car via the application, the access recorded on it is automatically deleted.\\n All accesses previously generated by this profile are also deleted. (if applicable)\\n Rights were given, settings are saved in the user profile               FC                                                                                                                                                                                                                                                                                                                                                                                                                                                                                                                                                                                                                                                                                                                                                                                                                                                                                                                                                                                                                                  Users can remotely control the DK deletion through the ATOM app, and the DK list is updated after deletion.\\nEnabling conditions (a & b):\\nThere is at least one DK;\\nVehicle mode is not End-Of-Life mode, and other modes are applicable.\\nTrigger conditions (a | b):\\nUser Services sends a request to delete a remote DK;\\nUser Services send a request of deleting remote DK, \\nUser Services sends a list of rename DK remotely,\\nvehicle/{VIN}/hardware/access/Remote/ Remote_DKListRename2;\\nExecution output:\\nBasic event flow: (a & b)\\nSGW receives User Services, delete the corresponding digital key information;\\nSGW received request from User Services, delete the information of the corresponding DK;\\nSGW sends digital key deletion status to Connectivity Services;\\nSGW send status of DK deletion to Connectivity Services, VEHICLE_RemoteDKDeleteState;\\nOptional event flow: (a&b&c)\\nSGW receives the renamed digital key list from User Services;\\nSGW received rename from User Services, list DK;\\nSGW stores the renamed digital key list;\\nSGW stored rename from User Services, list DK;\\nSGW stores the successful feedback of User Services rename status;\\n\\nATOM App receives the DK rename list state from Connectivity Services, if it is successful, ATOM App displays the updated name else back to the old name.\\n  [I-11467]  Revoke access to the vehicle from a driver or passenger\\n\\nGoal:\\nEnable the Owner to quickly revoke access from other drivers/profiles to the vehicle through the ATOM application.\\nPreconditions:\\nAlice - the owner or the driver with to grant access to the car\\nAlice decides to revoke previously granted access.\\nMain Scenario:\\nAlice opens the ATOM application on his in_5. Smart phone and goes to the section “Access Management”\\nThe system displayed the list with active drivers/passengers\\nThe owner selects the \"Revoke access\" option for delete the specific profile.\\nWhen connecting to the car via the application, the access recorded on it is automatically deleted.\\nAll accesses previously generated by this profile are also deleted. (if applicable)\\nRights were given, settings are saved in the user profile\\nAlternative scenario:\\nIn case the car does not have a direct connection with the application, the owner can issue a command to remove access.\\nAccess will be removed the next time the car connects to the internet.\\nIf the vehicle is in motion, access will be announced after the vehicle stops(parking mode).\\nPostconditions:\\nAccess has been successfully revoked\\nAll profile-related access is also removed, ensuring security.\\nA push notification appears on the mobile screen informing the owner that the vehicle user's access was revoked successfully. It can be closed manually or automatically after 5 seconds.\\n\n",
              "4   30371                                       ERA Self-diagnosis                                                                                                                                                                                                                                                                                               SSTS starts Every time the ignition switch is turned on \\nUC starts ERA self-diagnosis whether the system has a fault                                                           Self-diagnosis includes the following items:\\n proper operation of GSM/UMTS communication module interface;\\n proper operation of GNSS receiver;\\n sufficient charging level of backup battery;\\n proper operation (correct connection) of external GNSS antenna (if installed);\\n proper operation of airbag collision CAN signal (automatic RTA detector);\\n proper operation of UIM;\\n proper operation of microphone;\\n proper operation of speaker;               LC  ERA Self-diagnosis\\nFunctional Description\\n\\nSelf-diagnosis after ERA is started (in ERA state).\\n\\nEnabling conditions (a):\\n\\na. ERA is working properly;\\n\\nTrigger conditions (a):\\n\\na. In ERA state\\n\\nExecution output (a&b&c&d):\\n\\na. Every time the ignition switch is turned on (hw.KL15ON), ERA needs to activate the self-diagnosis function and conduct a self-diagnosis; ERA starts self-diagnosis when the vehicle is turned on. Self-diagnosis lasts about 30s.\\n\\nb. In ERA state, ERA performs self-diagnosis every cal.ERASelfTest (Default 1min TBD);\\n\\nb. The ERA needs to switch to internal battery power supply at cal.ERASelfTest (Default 1min TBD).\\n\\nc. Self-diagnosis includes the following items:\\n\\n- proper operation of GSM/UMTS communication module interface;\\n\\n- proper operation of GNSS receiver;\\n\\n- sufficient charging level of backup battery;\\n\\n- proper operation (correct connection) of external GNSS antenna (if installed);\\n\\n- proper operation of airbag collision CAN signal (automatic RTA detector);\\n\\n- proper operation of UIM;\\n\\n- proper operation of microphone;\\n\\n- proper operation of speaker;\\n\\nSelf-diagnosis includes the following items:\\n\\n- proper operation of GSM/UMTS communication module interface;\\n\\n- proper operation of GNSS receiver;\\n\\n- sufficient charging level of backup battery;\\n\\n- proper operation (correct connection) of external GNSS antenna (if installed);\\n\\n- proper operation of airbag crashed CAN signal (automatic RTA detector );\\n\\n- proper operation of UIM;\\n\\n- proper operation of microphone;\\n\\n- proper operation of loudspeaker.;\\n\\nd. After a fault is detected cal.ERASelfTestNum (Default 1 times TBD) within each power-on period, the ERA records the fault to the internal EEPROM; And control the System into the System Fault state, control the LED state (refer to the Ecall switch indicator drive)\\n\\nExit conditions/Exit conditions：\\n\\nNA\\n\\nNotes：\\n\\n①If the ignition is off after the software downloading is complete, the ERA shall update the software image in non-volatile memory, and then perform a self-diagnosis cycle.\\n\\n②If the ignition is on after the software downloading is complete, the ERA shall update the software image in non-volatile memory, and perform a self-diagnosis cycle after the ignition is turned off.\\n                                                                                                                                                                                                                                                                                  [I-30371]  ERA Self-diagnosis\\nActors:\\nERA-Glonass system\\nDescription:\\nERA self-diagnosis whether the system has a fault.\\nComponents:\\nERA-\\nFunction logic:\\nERA automatically starts self-diagnosis every 1 min and lasts about 30 secs. \\nActivation (initial)\\n- By trigger\\nAdjustment\\nN/A\\nDeactivation (Stoping, Cancelling)\\n- By trigger\\nAdditional Info\\nSelf-diagnosis includes:\\nproper operation of the GSM/UMTS communication module interface\\nproper operation of the GNSS receiver\\nthe sufficient charging level of the backup battery\\nproper operation (correct connection) of external GNSS antenna (if installed)\\nproper operation of airbag crashed CAN signal (automatic RTA detector)\\nproper operation of UIM\\nproper operation of the microphone\\nproper operation of the loudspeaker\\nDisplay:\\nMalfunctionEraGlonass_SOSButton - Once a fault is detected, the RED LED of the SOS button will light up\\nNotification:\\nMalfunctionOfEraGlonass_SWP -  Notification about malfunction in self-diagnosis of Era GLONASS in SWP. Notification automatically disappears in 5 secs\\nMalfunctionOfEraGlonass_MobileApp -  Notification about malfunction in self-diagnosis of Era GLONASS"
            ],
            "text/html": [
              "\n",
              "  <div id=\"df-0e80ae1c-b63f-4b0b-ad94-fae45acae5c3\" class=\"colab-df-container\">\n",
              "    <div>\n",
              "<style scoped>\n",
              "    .dataframe tbody tr th:only-of-type {\n",
              "        vertical-align: middle;\n",
              "    }\n",
              "\n",
              "    .dataframe tbody tr th {\n",
              "        vertical-align: top;\n",
              "    }\n",
              "\n",
              "    .dataframe thead th {\n",
              "        text-align: right;\n",
              "    }\n",
              "</style>\n",
              "<table border=\"1\" class=\"dataframe\">\n",
              "  <thead>\n",
              "    <tr style=\"text-align: right;\">\n",
              "      <th></th>\n",
              "      <th>Number</th>\n",
              "      <th>Name</th>\n",
              "      <th>Differences</th>\n",
              "      <th>Description</th>\n",
              "      <th>Complience Level</th>\n",
              "      <th>SSTS</th>\n",
              "      <th>HMI</th>\n",
              "    </tr>\n",
              "  </thead>\n",
              "  <tbody>\n",
              "    <tr>\n",
              "      <th>0</th>\n",
              "      <td>8800</td>\n",
              "      <td>Receiving Call Notifications</td>\n",
              "      <td>SSTS misses the following content:\\n The output device is different, instead of “car speakers” it says “mobile audio channel”\\n The output of the status on the HUD and SWP is not specified, only the sending of a signal is specified.\\n There is no indication of the methods for accepting/rejecting calls - buttons on the steering wheel and voice assistant.\\n There is no functionality to turn off music.</td>\n",
              "      <td>HMX description:\\nThe driver can accept or reject the call using the front buttons on the steering wheel (in_10) or via the voice assistant command (in_24). \\nIf the music is played on IVI via out_24, then the music gets quieter to allow the incoming call sound to be heard at a comfortable level.</td>\n",
              "      <td>LC</td>\n",
              "      <td>Receiving Call Notifications\\nFunctional Description:\\nWhen a mobile phone calls, SWP pops up a Bluetooth phone dialog box, if the number has been saved in the phone address book, display the call number and name; if not saved in the phone address book, only display the call number, and play the ring tone of the call;\\nEnabling conditions (a &amp; b):\\nIVI system startup;\\nBluetooth phone connected.\\nTrigger conditions (a):\\nIncoming Phone Call.\\nExecution output ((a|b) &amp; c):\\nSWP pops up a Bluetooth phone dialog box, displaying the call number and name (if the number has been saved in the phone address book). IVI automatically activates and switches to the mobile audio channel, and plays the incoming ringtone (if the incoming ringtone input of the mobile phone can be received (depending on the mobile phone), use the incoming call ringtone provided by the mobile phone, otherwise use the IVI default ringtone).\\nThe Bluetooth phone dialog box pops up on the SWP, displaying the incoming number and name (if the number has been saved in the phonebook), IVI automatically activates and switches to the mobile audio channel, and playing the incoming ringtone (Front speakers). (If the incoming ringtone input of the mobile phone can be received (depending on the phone), use the incoming call ringtone provided by the phone, otherwise use the IVI default ringtone)；\\nIVI_IFT sends the incoming call status signal vehicle/cabin/lights/atmosphere/ambient-callin/req.\\nExit conditions/Exit conditions (a|b|c|d): Answer the incoming call.\\nAccept the call End of incoming call.\\nReject the call. Miss the call. (The other party hung up the call or the call timed out)\\nMiss the call (because CO stopped outcoming call or because of timeout).\\nBT connection loss or BT switch OFF.</td>\n",
              "      <td>[I-8800]  Receiving Call Notifications\\nPreconditions\\nEntertainment system is ready. in_2 \\nThe driver's smartphone is connected to the vehicle's system via Bluetooth (in_32)[I-6323] Pairing a Mobile Phone. \\nMain Scenario:\\nAn incoming call is received on the driver's phone (in_5). \\nThe caller's information (name from the contact list or phone number) is displayed on the SWP Android (out_2). \\nThe interior ambient light (out_12) changes color to signal the incoming call. \\nAn incoming call sound is played through the vehicle's speakers (out_24). \\nThe driver can accept or reject the call using the front buttons on the steering wheel (in_10) or via the voice assistant command (in_24). \\nPostconditions:\\nIf the call is accepted, the interior ambient light changes color, the call status is displayed on the HUD and SWP Android, and the vehicle's microphone (in_24) and speakers out_24 are used for the call. \\nIf the call is rejected, the interior ambient light returns to its original color, the call notification is removed from the HUD and SWP Android, and a call rejection sound is played via out_24. \\nAlternative Scenario:\\nIf the caller's number is not saved in the smartphone's contacts, the HUD and SWP Android display the phone number or \"Unknown\" if the number is hidden. \\nIf the music is played on IVI via out_24, then the music gets quieter to allow the incoming call sound to be heard at a comfortable level.</td>\n",
              "    </tr>\n",
              "    <tr>\n",
              "      <th>1</th>\n",
              "      <td>31523</td>\n",
              "      <td>Adding Internet Radio to Favorites List</td>\n",
              "      <td>UC misses the following content:\\nUsers can set local music as favorites and view corresponding song information. This function is applicable to USB music, and online music. It can only be used when the vehicle is stopped through SWP operation.\\nUC uses only with Internet Radio interface</td>\n",
              "      <td>Users can add or remove songs from favorites and view detailed song information.\\nUsers can add or remove a radio station using a single interface icon.\\nIf obtaining song information fails, only the song name will be displayed.\\nIf the USB drive is unplugged or a song is deleted from the USB drive, the song in the favorites list will be grayed out.\\n</td>\n",
              "      <td>LC</td>\n",
              "      <td>Favorite Song operation\\nFunctional Description\\nUsers can set local music as favorites and view corresponding song information. This function is applicable to USB music, and online music. It can only be used when the vehicle is stopped through SWP operation.\\nEnabling conditions (a &amp; b):\\nIVI system startup;\\nUsers can operate the SWP;\\nTrigger conditions (a):\\nEnter the music player and select USB music or network music. Click on the \"Favorite Songs\" or \"View Song Details\" soft button.\\nExecution output (a &amp; b &amp; c &amp; d &amp; e):\\nAfter setting a song as favorite, you can find the song in the favorites list. The favorite list is a collection of radio, USB music, and online music.\\nAfter setting a song as a favorite, you can find it in the favorite list. The favorite list is a collection of radio, USB music, and online music.\\nA song that has been set as a favorite can be unset. After cancellation, the song disappears from the favorite list.\\nThe favorite setting is memorized after the car is powered off.\\nStore favorites list before IVI powered off.\\nView the song information without affecting the playback/pause status, and display the corresponding song information, including the song name, performer, and album name.\\nIf the song information fails to be obtained, only the song name is displayed.\\nIf obtaining song information fails, only the song name will be displayed.\\nIf the USB drive is unplugged or a song is deleted from the USB drive, the song in the favorites list will be grayed out.\\nExit conditions (a)\\nDisplay screen off;\\nIVI shutdown;\\nSWP music player local music playback page, network music playback page, providing software buttons for collecting and viewing song details.\\nSWP music player local music playback page, network music playback page, providing software buttons for collecting and viewing song details.\\nThe SWP music player has a music collection interface and provides a software button to cancel the collection.</td>\n",
              "      <td>[I-31523]  Adding Internet Radio to Favorites List\\nDescription: \\nUse Case: Adding Internet Radio to Favorites List\\n\\nGoal: User wants to add favorites internet radio to enlighten the access to his favorite music/info\\n\\nActors:\\nCar User \\nIVI \\nPreconditions:\\nUser in in the Internet Radio list \\nTriggers:\\nUser selects to add the Radio via in_2/in_5 \\nMain Scenario:\\nThe user press on the UI interface \"Add to Favorites\" icon \\nPostconditions:\\nThe selected internet radio station is added to the user's personalized favorites list. \\nRequirenments:\\nUser must be able to navigate to the Favourite list from Internet Radio interface \\nUser must be able to 'Remove from favorites' the Internet Radio station by pressing the same interface icon</td>\n",
              "    </tr>\n",
              "    <tr>\n",
              "      <th>2</th>\n",
              "      <td>25957</td>\n",
              "      <td>Mute/unmute the FM Radio playback</td>\n",
              "      <td>There is no soft button icon and description in HMI.\\nThe function is switched using the control knob on the steering wheel\\nThe voice recognition system can recognize mute/pause voice commands.</td>\n",
              "      <td>The user clicks on the radio and clicks on the mute soft button.</td>\n",
              "      <td>PC</td>\n",
              "      <td>Mute or pause function\\nFunctional Description\\nWhen playing online radio stations, pause operation can be performed, and live programs can be muted. It can only be used when the vehicle is stopped through SWP operation.\\nEnabling conditions (a &amp; b);\\nIVI system startup;\\nUser operable display screen.\\nTrigger conditions (a | b | c):\\nWhen a valid network radio station is running, click the mute / pause soft button.\\nWhen a valid network radio station is running, mute / pause is controlled by the Switches hard button (Switches_L_Accept_Cmd (vehicle / cabin / steering-wheel / left-area / accept / command) = 0x1: Press).\\nWhen an effective network radio station is running, use the Switches hard keys to control mute/pause (Switches_L_Accept_Cmd (vehicle/cabin/steering-wheel/left-area/accept/command) = 0x1: Press).\\nWhen an effective network radio station is running, mute/pause is controlled through voice function.\\nExecution output (a&amp;b&amp;c):\\nWhen the network radio is playing, click the mute/pause soft button or use the Switches hard keys or voice control to mute or pause the network radio.\\nWhen the network radio is playing, click the mute/pause soft button or use the Switches hard keys or voice control to mute or pause the network radio.\\nWhen the network radio is muted or paused, click the mute/pause soft button or use the Switches hard keys or voice control to play the network radio.\\nWhen the network radio is muted or paused, click the mute/pause soft button or use the Switches hard keys or voice control to play the network radio.\\nWhen the network radio is muted, the system shuts down, and the radio automatically plays sound the next time it is powered on.\\nExit conditions (a|b)\\nSystem shutdown;\\nIVI system shutdown;\\nSwitch audio source.\\nThe SWP network radio page provides mute/pause soft buttons.\\nThe Switches provide a mute/pause hard keys.\\nThe voice recognition system can recognize mute/pause voice commands.\\nThe SWP network radio page provides mute/pause soft buttons.\\nThe Switches provide a mute/pause hard keys.\\nThe voice recognition system can recognize mute/pause voice commands.</td>\n",
              "      <td>[I-25957]  Mute/unmute the FM Radio playback\\nDescription: \\nPreconditions:\\nUser is playing FM Radio \\nMain Scenario:\\n​​​User clicks on Mute/Unmute button via in_2/in_5 \\nFM Radio sound output is Muted/Unmuted \\nPostconditions:\\nThe user Mutes/Unmutes the FM Radio playback \\nGoal: \"Users are able to mute/unmute the FM Radio playback\"</td>\n",
              "    </tr>\n",
              "    <tr>\n",
              "      <th>3</th>\n",
              "      <td>11467</td>\n",
              "      <td>Revoke access to the vehicle from a driver or passenger</td>\n",
              "      <td>-</td>\n",
              "      <td>The driver opens the ATOM application on his in_5. Smart phone and goes to the section “Access Management”\\n The system displayed the list with active drivers/passengers\\n The owner selects the \"Revoke access\" option for delete the specific profile.\\n When connecting to the car via the application, the access recorded on it is automatically deleted.\\n All accesses previously generated by this profile are also deleted. (if applicable)\\n Rights were given, settings are saved in the user profile</td>\n",
              "      <td>FC</td>\n",
              "      <td>Users can remotely control the DK deletion through the ATOM app, and the DK list is updated after deletion.\\nEnabling conditions (a &amp; b):\\nThere is at least one DK;\\nVehicle mode is not End-Of-Life mode, and other modes are applicable.\\nTrigger conditions (a | b):\\nUser Services sends a request to delete a remote DK;\\nUser Services send a request of deleting remote DK, \\nUser Services sends a list of rename DK remotely,\\nvehicle/{VIN}/hardware/access/Remote/ Remote_DKListRename2;\\nExecution output:\\nBasic event flow: (a &amp; b)\\nSGW receives User Services, delete the corresponding digital key information;\\nSGW received request from User Services, delete the information of the corresponding DK;\\nSGW sends digital key deletion status to Connectivity Services;\\nSGW send status of DK deletion to Connectivity Services, VEHICLE_RemoteDKDeleteState;\\nOptional event flow: (a&amp;b&amp;c)\\nSGW receives the renamed digital key list from User Services;\\nSGW received rename from User Services, list DK;\\nSGW stores the renamed digital key list;\\nSGW stored rename from User Services, list DK;\\nSGW stores the successful feedback of User Services rename status;\\n\\nATOM App receives the DK rename list state from Connectivity Services, if it is successful, ATOM App displays the updated name else back to the old name.\\n</td>\n",
              "      <td>[I-11467]  Revoke access to the vehicle from a driver or passenger\\n\\nGoal:\\nEnable the Owner to quickly revoke access from other drivers/profiles to the vehicle through the ATOM application.\\nPreconditions:\\nAlice - the owner or the driver with to grant access to the car\\nAlice decides to revoke previously granted access.\\nMain Scenario:\\nAlice opens the ATOM application on his in_5. Smart phone and goes to the section “Access Management”\\nThe system displayed the list with active drivers/passengers\\nThe owner selects the \"Revoke access\" option for delete the specific profile.\\nWhen connecting to the car via the application, the access recorded on it is automatically deleted.\\nAll accesses previously generated by this profile are also deleted. (if applicable)\\nRights were given, settings are saved in the user profile\\nAlternative scenario:\\nIn case the car does not have a direct connection with the application, the owner can issue a command to remove access.\\nAccess will be removed the next time the car connects to the internet.\\nIf the vehicle is in motion, access will be announced after the vehicle stops(parking mode).\\nPostconditions:\\nAccess has been successfully revoked\\nAll profile-related access is also removed, ensuring security.\\nA push notification appears on the mobile screen informing the owner that the vehicle user's access was revoked successfully. It can be closed manually or automatically after 5 seconds.\\n</td>\n",
              "    </tr>\n",
              "    <tr>\n",
              "      <th>4</th>\n",
              "      <td>30371</td>\n",
              "      <td>ERA Self-diagnosis</td>\n",
              "      <td>SSTS starts Every time the ignition switch is turned on \\nUC starts ERA self-diagnosis whether the system has a fault</td>\n",
              "      <td>Self-diagnosis includes the following items:\\n proper operation of GSM/UMTS communication module interface;\\n proper operation of GNSS receiver;\\n sufficient charging level of backup battery;\\n proper operation (correct connection) of external GNSS antenna (if installed);\\n proper operation of airbag collision CAN signal (automatic RTA detector);\\n proper operation of UIM;\\n proper operation of microphone;\\n proper operation of speaker;</td>\n",
              "      <td>LC</td>\n",
              "      <td>ERA Self-diagnosis\\nFunctional Description\\n\\nSelf-diagnosis after ERA is started (in ERA state).\\n\\nEnabling conditions (a):\\n\\na. ERA is working properly;\\n\\nTrigger conditions (a):\\n\\na. In ERA state\\n\\nExecution output (a&amp;b&amp;c&amp;d):\\n\\na. Every time the ignition switch is turned on (hw.KL15ON), ERA needs to activate the self-diagnosis function and conduct a self-diagnosis; ERA starts self-diagnosis when the vehicle is turned on. Self-diagnosis lasts about 30s.\\n\\nb. In ERA state, ERA performs self-diagnosis every cal.ERASelfTest (Default 1min TBD);\\n\\nb. The ERA needs to switch to internal battery power supply at cal.ERASelfTest (Default 1min TBD).\\n\\nc. Self-diagnosis includes the following items:\\n\\n- proper operation of GSM/UMTS communication module interface;\\n\\n- proper operation of GNSS receiver;\\n\\n- sufficient charging level of backup battery;\\n\\n- proper operation (correct connection) of external GNSS antenna (if installed);\\n\\n- proper operation of airbag collision CAN signal (automatic RTA detector);\\n\\n- proper operation of UIM;\\n\\n- proper operation of microphone;\\n\\n- proper operation of speaker;\\n\\nSelf-diagnosis includes the following items:\\n\\n- proper operation of GSM/UMTS communication module interface;\\n\\n- proper operation of GNSS receiver;\\n\\n- sufficient charging level of backup battery;\\n\\n- proper operation (correct connection) of external GNSS antenna (if installed);\\n\\n- proper operation of airbag crashed CAN signal (automatic RTA detector );\\n\\n- proper operation of UIM;\\n\\n- proper operation of microphone;\\n\\n- proper operation of loudspeaker.;\\n\\nd. After a fault is detected cal.ERASelfTestNum (Default 1 times TBD) within each power-on period, the ERA records the fault to the internal EEPROM; And control the System into the System Fault state, control the LED state (refer to the Ecall switch indicator drive)\\n\\nExit conditions/Exit conditions：\\n\\nNA\\n\\nNotes：\\n\\n①If the ignition is off after the software downloading is complete, the ERA shall update the software image in non-volatile memory, and then perform a self-diagnosis cycle.\\n\\n②If the ignition is on after the software downloading is complete, the ERA shall update the software image in non-volatile memory, and perform a self-diagnosis cycle after the ignition is turned off.\\n</td>\n",
              "      <td>[I-30371]  ERA Self-diagnosis\\nActors:\\nERA-Glonass system\\nDescription:\\nERA self-diagnosis whether the system has a fault.\\nComponents:\\nERA-\\nFunction logic:\\nERA automatically starts self-diagnosis every 1 min and lasts about 30 secs. \\nActivation (initial)\\n- By trigger\\nAdjustment\\nN/A\\nDeactivation (Stoping, Cancelling)\\n- By trigger\\nAdditional Info\\nSelf-diagnosis includes:\\nproper operation of the GSM/UMTS communication module interface\\nproper operation of the GNSS receiver\\nthe sufficient charging level of the backup battery\\nproper operation (correct connection) of external GNSS antenna (if installed)\\nproper operation of airbag crashed CAN signal (automatic RTA detector)\\nproper operation of UIM\\nproper operation of the microphone\\nproper operation of the loudspeaker\\nDisplay:\\nMalfunctionEraGlonass_SOSButton - Once a fault is detected, the RED LED of the SOS button will light up\\nNotification:\\nMalfunctionOfEraGlonass_SWP -  Notification about malfunction in self-diagnosis of Era GLONASS in SWP. Notification automatically disappears in 5 secs\\nMalfunctionOfEraGlonass_MobileApp -  Notification about malfunction in self-diagnosis of Era GLONASS</td>\n",
              "    </tr>\n",
              "  </tbody>\n",
              "</table>\n",
              "</div>\n",
              "    <div class=\"colab-df-buttons\">\n",
              "\n",
              "  <div class=\"colab-df-container\">\n",
              "    <button class=\"colab-df-convert\" onclick=\"convertToInteractive('df-0e80ae1c-b63f-4b0b-ad94-fae45acae5c3')\"\n",
              "            title=\"Convert this dataframe to an interactive table.\"\n",
              "            style=\"display:none;\">\n",
              "\n",
              "  <svg xmlns=\"http://www.w3.org/2000/svg\" height=\"24px\" viewBox=\"0 -960 960 960\">\n",
              "    <path d=\"M120-120v-720h720v720H120Zm60-500h600v-160H180v160Zm220 220h160v-160H400v160Zm0 220h160v-160H400v160ZM180-400h160v-160H180v160Zm440 0h160v-160H620v160ZM180-180h160v-160H180v160Zm440 0h160v-160H620v160Z\"/>\n",
              "  </svg>\n",
              "    </button>\n",
              "\n",
              "  <style>\n",
              "    .colab-df-container {\n",
              "      display:flex;\n",
              "      gap: 12px;\n",
              "    }\n",
              "\n",
              "    .colab-df-convert {\n",
              "      background-color: #E8F0FE;\n",
              "      border: none;\n",
              "      border-radius: 50%;\n",
              "      cursor: pointer;\n",
              "      display: none;\n",
              "      fill: #1967D2;\n",
              "      height: 32px;\n",
              "      padding: 0 0 0 0;\n",
              "      width: 32px;\n",
              "    }\n",
              "\n",
              "    .colab-df-convert:hover {\n",
              "      background-color: #E2EBFA;\n",
              "      box-shadow: 0px 1px 2px rgba(60, 64, 67, 0.3), 0px 1px 3px 1px rgba(60, 64, 67, 0.15);\n",
              "      fill: #174EA6;\n",
              "    }\n",
              "\n",
              "    .colab-df-buttons div {\n",
              "      margin-bottom: 4px;\n",
              "    }\n",
              "\n",
              "    [theme=dark] .colab-df-convert {\n",
              "      background-color: #3B4455;\n",
              "      fill: #D2E3FC;\n",
              "    }\n",
              "\n",
              "    [theme=dark] .colab-df-convert:hover {\n",
              "      background-color: #434B5C;\n",
              "      box-shadow: 0px 1px 3px 1px rgba(0, 0, 0, 0.15);\n",
              "      filter: drop-shadow(0px 1px 2px rgba(0, 0, 0, 0.3));\n",
              "      fill: #FFFFFF;\n",
              "    }\n",
              "  </style>\n",
              "\n",
              "    <script>\n",
              "      const buttonEl =\n",
              "        document.querySelector('#df-0e80ae1c-b63f-4b0b-ad94-fae45acae5c3 button.colab-df-convert');\n",
              "      buttonEl.style.display =\n",
              "        google.colab.kernel.accessAllowed ? 'block' : 'none';\n",
              "\n",
              "      async function convertToInteractive(key) {\n",
              "        const element = document.querySelector('#df-0e80ae1c-b63f-4b0b-ad94-fae45acae5c3');\n",
              "        const dataTable =\n",
              "          await google.colab.kernel.invokeFunction('convertToInteractive',\n",
              "                                                    [key], {});\n",
              "        if (!dataTable) return;\n",
              "\n",
              "        const docLinkHtml = 'Like what you see? Visit the ' +\n",
              "          '<a target=\"_blank\" href=https://colab.research.google.com/notebooks/data_table.ipynb>data table notebook</a>'\n",
              "          + ' to learn more about interactive tables.';\n",
              "        element.innerHTML = '';\n",
              "        dataTable['output_type'] = 'display_data';\n",
              "        await google.colab.output.renderOutput(dataTable, element);\n",
              "        const docLink = document.createElement('div');\n",
              "        docLink.innerHTML = docLinkHtml;\n",
              "        element.appendChild(docLink);\n",
              "      }\n",
              "    </script>\n",
              "  </div>\n",
              "\n",
              "\n",
              "<div id=\"df-c3503714-3eb3-4785-adc8-db94a475e5c1\">\n",
              "  <button class=\"colab-df-quickchart\" onclick=\"quickchart('df-c3503714-3eb3-4785-adc8-db94a475e5c1')\"\n",
              "            title=\"Suggest charts\"\n",
              "            style=\"display:none;\">\n",
              "\n",
              "<svg xmlns=\"http://www.w3.org/2000/svg\" height=\"24px\"viewBox=\"0 0 24 24\"\n",
              "     width=\"24px\">\n",
              "    <g>\n",
              "        <path d=\"M19 3H5c-1.1 0-2 .9-2 2v14c0 1.1.9 2 2 2h14c1.1 0 2-.9 2-2V5c0-1.1-.9-2-2-2zM9 17H7v-7h2v7zm4 0h-2V7h2v10zm4 0h-2v-4h2v4z\"/>\n",
              "    </g>\n",
              "</svg>\n",
              "  </button>\n",
              "\n",
              "<style>\n",
              "  .colab-df-quickchart {\n",
              "      --bg-color: #E8F0FE;\n",
              "      --fill-color: #1967D2;\n",
              "      --hover-bg-color: #E2EBFA;\n",
              "      --hover-fill-color: #174EA6;\n",
              "      --disabled-fill-color: #AAA;\n",
              "      --disabled-bg-color: #DDD;\n",
              "  }\n",
              "\n",
              "  [theme=dark] .colab-df-quickchart {\n",
              "      --bg-color: #3B4455;\n",
              "      --fill-color: #D2E3FC;\n",
              "      --hover-bg-color: #434B5C;\n",
              "      --hover-fill-color: #FFFFFF;\n",
              "      --disabled-bg-color: #3B4455;\n",
              "      --disabled-fill-color: #666;\n",
              "  }\n",
              "\n",
              "  .colab-df-quickchart {\n",
              "    background-color: var(--bg-color);\n",
              "    border: none;\n",
              "    border-radius: 50%;\n",
              "    cursor: pointer;\n",
              "    display: none;\n",
              "    fill: var(--fill-color);\n",
              "    height: 32px;\n",
              "    padding: 0;\n",
              "    width: 32px;\n",
              "  }\n",
              "\n",
              "  .colab-df-quickchart:hover {\n",
              "    background-color: var(--hover-bg-color);\n",
              "    box-shadow: 0 1px 2px rgba(60, 64, 67, 0.3), 0 1px 3px 1px rgba(60, 64, 67, 0.15);\n",
              "    fill: var(--button-hover-fill-color);\n",
              "  }\n",
              "\n",
              "  .colab-df-quickchart-complete:disabled,\n",
              "  .colab-df-quickchart-complete:disabled:hover {\n",
              "    background-color: var(--disabled-bg-color);\n",
              "    fill: var(--disabled-fill-color);\n",
              "    box-shadow: none;\n",
              "  }\n",
              "\n",
              "  .colab-df-spinner {\n",
              "    border: 2px solid var(--fill-color);\n",
              "    border-color: transparent;\n",
              "    border-bottom-color: var(--fill-color);\n",
              "    animation:\n",
              "      spin 1s steps(1) infinite;\n",
              "  }\n",
              "\n",
              "  @keyframes spin {\n",
              "    0% {\n",
              "      border-color: transparent;\n",
              "      border-bottom-color: var(--fill-color);\n",
              "      border-left-color: var(--fill-color);\n",
              "    }\n",
              "    20% {\n",
              "      border-color: transparent;\n",
              "      border-left-color: var(--fill-color);\n",
              "      border-top-color: var(--fill-color);\n",
              "    }\n",
              "    30% {\n",
              "      border-color: transparent;\n",
              "      border-left-color: var(--fill-color);\n",
              "      border-top-color: var(--fill-color);\n",
              "      border-right-color: var(--fill-color);\n",
              "    }\n",
              "    40% {\n",
              "      border-color: transparent;\n",
              "      border-right-color: var(--fill-color);\n",
              "      border-top-color: var(--fill-color);\n",
              "    }\n",
              "    60% {\n",
              "      border-color: transparent;\n",
              "      border-right-color: var(--fill-color);\n",
              "    }\n",
              "    80% {\n",
              "      border-color: transparent;\n",
              "      border-right-color: var(--fill-color);\n",
              "      border-bottom-color: var(--fill-color);\n",
              "    }\n",
              "    90% {\n",
              "      border-color: transparent;\n",
              "      border-bottom-color: var(--fill-color);\n",
              "    }\n",
              "  }\n",
              "</style>\n",
              "\n",
              "  <script>\n",
              "    async function quickchart(key) {\n",
              "      const quickchartButtonEl =\n",
              "        document.querySelector('#' + key + ' button');\n",
              "      quickchartButtonEl.disabled = true;  // To prevent multiple clicks.\n",
              "      quickchartButtonEl.classList.add('colab-df-spinner');\n",
              "      try {\n",
              "        const charts = await google.colab.kernel.invokeFunction(\n",
              "            'suggestCharts', [key], {});\n",
              "      } catch (error) {\n",
              "        console.error('Error during call to suggestCharts:', error);\n",
              "      }\n",
              "      quickchartButtonEl.classList.remove('colab-df-spinner');\n",
              "      quickchartButtonEl.classList.add('colab-df-quickchart-complete');\n",
              "    }\n",
              "    (() => {\n",
              "      let quickchartButtonEl =\n",
              "        document.querySelector('#df-c3503714-3eb3-4785-adc8-db94a475e5c1 button');\n",
              "      quickchartButtonEl.style.display =\n",
              "        google.colab.kernel.accessAllowed ? 'block' : 'none';\n",
              "    })();\n",
              "  </script>\n",
              "</div>\n",
              "    </div>\n",
              "  </div>\n"
            ],
            "application/vnd.google.colaboratory.intrinsic+json": {
              "type": "dataframe",
              "variable_name": "df",
              "summary": "{\n  \"name\": \"df\",\n  \"rows\": 11,\n  \"fields\": [\n    {\n      \"column\": \"Number\",\n      \"properties\": {\n        \"dtype\": \"number\",\n        \"std\": 10320,\n        \"min\": 6583,\n        \"max\": 31523,\n        \"num_unique_values\": 11,\n        \"samples\": [\n          26771,\n          8800,\n          26161\n        ],\n        \"semantic_type\": \"\",\n        \"description\": \"\"\n      }\n    },\n    {\n      \"column\": \"Name\",\n      \"properties\": {\n        \"dtype\": \"string\",\n        \"num_unique_values\": 11,\n        \"samples\": [\n          \"Turn on and off hotspot via VA\",\n          \"Receiving Call Notifications\",\n          \"FM Radio stations switching\"\n        ],\n        \"semantic_type\": \"\",\n        \"description\": \"\"\n      }\n    },\n    {\n      \"column\": \"Differences\",\n      \"properties\": {\n        \"dtype\": \"string\",\n        \"num_unique_values\": 11,\n        \"samples\": [\n          \"SSTS misses the following content:\\n VA will inform the user about the deactivation out_24 Voice. Dynamic. \\n The devices will disconnect to the hotspot out_5 Smartphone. \\n If no devices connect after the Hotspot turn on within 10 mins, it will automatically turn off.\\nSSTS has no relevant logical content about the VA command failure senario.\\nVA does not understand the user's command for some reason: offers options to distribute the Internet or connect to wi-fi.\",\n          \"SSTS misses the following content:\\n The output device is different, instead of \\u201ccar speakers\\u201d it says \\u201cmobile audio channel\\u201d\\n The output of the status on the HUD and SWP is not specified, only the sending of a signal is specified.\\n There is no indication of the methods for accepting/rejecting calls - buttons on the steering wheel and voice assistant.\\n There is no functionality to turn off music.\",\n          \"UC misses the folowimg content:\\n Only when the vehicle is stopped can calls be made through SWP.\\n Users play the radio and use voice to search for radio stations\"\n        ],\n        \"semantic_type\": \"\",\n        \"description\": \"\"\n      }\n    },\n    {\n      \"column\": \"Description\",\n      \"properties\": {\n        \"dtype\": \"string\",\n        \"num_unique_values\": 11,\n        \"samples\": [\n          \"Users can turn on or off the vehicle hotspot according to their needs via the VA\",\n          \"HMX description:\\nThe driver can accept or reject the call using the front buttons on the steering wheel (in_10) or via the voice assistant command (in_24). \\nIf the music is played on IVI via out_24, then the music gets quieter to allow the incoming call sound to be heard at a comfortable level.\",\n          \"Support for searching for radio stations through soft switches.\"\n        ],\n        \"semantic_type\": \"\",\n        \"description\": \"\"\n      }\n    },\n    {\n      \"column\": \"Complience Level\",\n      \"properties\": {\n        \"dtype\": \"category\",\n        \"num_unique_values\": 4,\n        \"samples\": [\n          \"PC\",\n          \"NC\",\n          \"LC\"\n        ],\n        \"semantic_type\": \"\",\n        \"description\": \"\"\n      }\n    },\n    {\n      \"column\": \"SSTS\",\n      \"properties\": {\n        \"dtype\": \"string\",\n        \"num_unique_values\": 11,\n        \"samples\": [\n          \"\\nTurn on and off hotspot\\nFunctional Description\\nUsers can choose to turn on or off the car hotspot according to their needs, with the default setting being off. Only when the vehicle is stopped can the hotspot be turned on or off by touching SWP. When the vehicle is in motion, hotspots can be turned on/off through voice.\\nEnabling conditions (a&b):\\nIVI system startup;\\nUser can operate SWP.\\nTrigger conditions (a|b):\\nUser operates the soft switch on the SWP to turn on/off the car's hot spot.\\nUser wakes up the voice assistant and turns on/off the car's hotspot through voice commands.\\nThe user wakes up the voice assistant and turns on/off the car's hotspot through voice commands.\\nExecution output (a & b):\\nIVI_IFT sends vehicle/{VIN}/hardware/interfaces/hotspotCommand signal.\\nIVI_IFT sends vehicle/{VIN}/hardware/interfaces/hotspotCommand signal.\\nIVI_IFT receives hotspot status signal vehicle/{VIN}/hardware/interfaces/hotspotState\\nand displays hotspot status on the hotspot control page.\\nExit conditions (a):\\nIVI system shutdown;\",\n          \"Receiving Call Notifications\\nFunctional Description:\\nWhen a mobile phone calls, SWP pops up a Bluetooth phone dialog box, if the number has been saved in the phone address book, display the call number and name; if not saved in the phone address book, only display the call number, and play the ring tone of the call;\\nEnabling conditions (a & b):\\nIVI system startup;\\nBluetooth phone connected.\\nTrigger conditions (a):\\nIncoming Phone Call.\\nExecution output ((a|b) & c):\\nSWP pops up a Bluetooth phone dialog box, displaying the call number and name (if the number has been saved in the phone address book). IVI automatically activates and switches to the mobile audio channel, and plays the incoming ringtone (if the incoming ringtone input of the mobile phone can be received (depending on the mobile phone), use the incoming call ringtone provided by the mobile phone, otherwise use the IVI default ringtone).\\nThe Bluetooth phone dialog box pops up on the SWP, displaying the incoming number and name (if the number has been saved in the phonebook), IVI automatically activates and switches to the mobile audio channel, and playing the incoming ringtone (Front speakers). (If the incoming ringtone input of the mobile phone can be received (depending on the phone), use the incoming call ringtone provided by the phone, otherwise use the IVI default ringtone)\\uff1b\\nIVI_IFT sends the incoming call status signal vehicle/cabin/lights/atmosphere/ambient-callin/req.\\nExit conditions/Exit conditions (a|b|c|d): Answer the incoming call.\\nAccept the call End of incoming call.\\nReject the call. Miss the call. (The other party hung up the call or the call timed out)\\nMiss the call (because CO stopped outcoming call or because of timeout).\\nBT connection loss or BT switch OFF.\",\n          \"Automatic search\\nFunctional Description\\nSupport for searching for radio stations through soft switches. It can only be used when the vehicle is stopped through SWP operation.\\nEnabling conditions (a):\\nUser can operate display screen.\\nTrigger conditions (a|b|c):\\nUsers click to enter the radio and click on the SWP \\\"Previous\\\"/\\\"Next\\\" soft button .\\nUsers play the radio and use voice to search for radio stations (specific corpus defined by the ATOM design team).\\nUser plays radio and searches for radio \\\"previous\\\"/\\\" next \\\"by voice (specific corpus defined by ATOM design team)\\nUser plays radio and clicks Switches \\\"previous\\\" (Switches_L_Left_Cmd (vehicle/cabin/steering-wheel/left-area/left/command) = 0x1: Press)/next (Switches_L_Right_Cmd (vehicle/cabin/steering-wheel/left-area/right/command) = 0x1: Press) hard keys.\\nThe user plays the radio and clicks on the Switches \\\"Previous\\\" (Switches_L_Left_Cmd (vehicle/cabin/steering-wheel/left-area/left/command) = 0x1: Press) / \\\"Next\\\" (Switches_L_Right_Cmd (vehicle/cabin/steering-wheel/left-area/right/command) = 0x1: Press) hard button.\\nExecution output (a&b&c&d):\\nClick the up automatic search radio soft button to start from the current channel/\\\"previous\\\" by voice, search up and play the first playable channel. The radio station is muted during the search process.\\nClick the up automatic search radio soft button to start from the current channel/\\\"previous\\\" by voice, search up and play the first playable channel. The radio station is muted during the search process.\\nClick the down automatic search radio soft button/voice \\\"next\\\" to start from the current channel, search up and play the first playable channel. The radio station is muted during the search process.\\nClick the down automatic search radio soft button to start from the current channel/\\\"next\\\" by voice, search down and play the first playable channel. The radio station is muted during the search process.\\nDuring the automatic search process, the frequency band is switched and the automatic search stops.\\nDuring the automatic search process, if no valid radio station is found, continue the automatic search until other action buttons are pressed. After scanning to the maximum frequency/minimum frequency (from the minimum frequency/maximum frequency), continue to automatically search until returning to the frequency position before scanning for playback.\\nDuring the automatic search process, if no valid radio station is found, continue the automatic search until other action buttons are pressed. After scanning to the maximum frequency/minimum frequency (from the minimum frequency/maximum frequency), continue to automatically search until returning to the frequency position before scanning for playback.\\nExit conditions (a|b):\\nDisplay screen off;\\nAudio source switching.\\nAudio source switching.\"\n        ],\n        \"semantic_type\": \"\",\n        \"description\": \"\"\n      }\n    },\n    {\n      \"column\": \"HMI\",\n      \"properties\": {\n        \"dtype\": \"string\",\n        \"num_unique_values\": 11,\n        \"samples\": [\n          \"[I-26771]\\u00a0 Turn on and off hotspot via VA\\n\\nDescription: \\nUse-Case Title: \\\"Turn on and off hotspot via VA\\\"\\nGoal: \\nUsers can turn on or off the vehicle hotspot according to their needs via the VA. \\nScope:\\nSWP Android \\nVA \\nSmartphone \\nTigger:\\nThe user controls the hotspot switch via in_24 Voice. Microphone. \\nActors:\\nOwner \\nDriver \\nPassenger \\nPrecondition:\\nIVI system startup out_2 SWP Android. \\nMain scenario:\\nThe user asks in_24 Voice. Microphone to turn on the hotspot. \\nThe out_2 SWP Android activates the Hotspot. \\nVA will inform the user about the activation out_24 Voice. Dynamic. \\nout_2 SWP Android shows notification with button \\\"Show Hotspot Settings\\\". By \\u0441licking in_2 SWP Android on \\\"Show Hotspot Settings\\\" the access point settings section for the user will open (The notification will automatically disappear in 5 seconds without clicking the button). \\nPostcondition:\\nWhen the user turns on the hotspot switch, the hotspot will be on out_2 SWP Android. \\nThe user can connect the network from the vehicle via in_5. smartphone WIFI connection function by inputting the hotspot password. \\nAlternative Scenario A (Turn off the hotspot):\\nThe user asks in_24 Voice. Microphone to turn off the hotspot. \\nThe out_2 SWP Android deactivates the Hotspot. \\nVA will inform the user about the deactivation out_24 Voice. Dynamic. \\nThe devices will disconnect to the hotspot out_5 Smartphone. \\nRequirements:\\nThe hotspot switch, name, password are the same level menu. \\nThe hotspot is turned off by default on every power-on. \\nIf no devices connect after the Hotspot turn on within 10 mins, it will automatically turn off. \",\n          \"[I-8800]\\u00a0 Receiving Call Notifications\\nPreconditions\\nEntertainment system is ready. in_2 \\nThe driver's smartphone is connected to the vehicle's system via Bluetooth (in_32)[I-6323] Pairing a Mobile Phone. \\nMain Scenario:\\nAn incoming call is received on the driver's phone (in_5). \\nThe caller's information (name from the contact list or phone number) is displayed on the SWP Android (out_2). \\nThe interior ambient light (out_12) changes color to signal the incoming call. \\nAn incoming call sound is played through the vehicle's speakers (out_24). \\nThe driver can accept or reject the call using the front buttons on the steering wheel (in_10) or via the voice assistant command (in_24). \\nPostconditions:\\nIf the call is accepted, the interior ambient light changes color, the call status is displayed on the HUD and SWP Android, and the vehicle's microphone (in_24) and speakers out_24 are used for the call. \\nIf the call is rejected, the interior ambient light returns to its original color, the call notification is removed from the HUD and SWP Android, and a call rejection sound is played via out_24. \\nAlternative Scenario:\\nIf the caller's number is not saved in the smartphone's contacts, the HUD and SWP Android display the phone number or \\\"Unknown\\\" if the number is hidden. \\nIf the music is played on IVI via out_24, then the music gets quieter to allow the incoming call sound to be heard at a comfortable level. \",\n          \"[I-26161]\\u00a0 FM Radio Stations switching\\nDescription: \\nPreconditions:\\nUser has selected FM Radio playback \\nSmartphone in_5 Bluetooth switched on \\nSmartphone in_5 paired with Vehicle \\nMain Scenario:\\nUser presses the forward/backward button via in_2/in_5/in_10 \\nIVI switches the next/previous FM Radio station in the list \\nPostconditions:\\nout_5/out_2 shows the station information \\n24.1 All Multimedia Sounds. Speaker plays the new station output \\nRequirenments:\\nThe action is displayed on the touchpoint from which this action is performed \"\n        ],\n        \"semantic_type\": \"\",\n        \"description\": \"\"\n      }\n    }\n  ]\n}"
            }
          },
          "metadata": {},
          "execution_count": 143
        }
      ]
    },
    {
      "cell_type": "markdown",
      "source": [
        "### Запускаем ChatGPT"
      ],
      "metadata": {
        "id": "jQ3ePlUWwFkp"
      }
    },
    {
      "cell_type": "code",
      "source": [
        "# импортируем библиотеки\n",
        "import os\n",
        "from getpass import getpass\n",
        "import warnings\n",
        "warnings.filterwarnings('ignore')\n",
        "\n",
        "import pandas as pd"
      ],
      "metadata": {
        "id": "u4pW2QHWs7CV"
      },
      "execution_count": null,
      "outputs": []
    },
    {
      "cell_type": "code",
      "source": [
        "!pip install langchain langchain-openai openai tiktoken -q"
      ],
      "metadata": {
        "id": "THFxhWL2vF09"
      },
      "execution_count": null,
      "outputs": []
    },
    {
      "cell_type": "code",
      "source": [
        "from langchain import FewShotPromptTemplate\n",
        "from langchain import PromptTemplate\n",
        "from langchain.prompts import ChatPromptTemplate\n",
        "from langchain.output_parsers import ResponseSchema\n",
        "from langchain.output_parsers import StructuredOutputParser"
      ],
      "metadata": {
        "id": "fOIllXhNyil1"
      },
      "execution_count": null,
      "outputs": []
    },
    {
      "cell_type": "code",
      "source": [
        "os.environ['OPENAI_API_KEY'] = \"Введите ваш OpenAI API ключ\"\n",
        "os.environ['OPENAI_API_KEY'] = getpass(prompt='Введите ваш OpenAI API ключ')"
      ],
      "metadata": {
        "colab": {
          "base_uri": "https://localhost:8080/"
        },
        "id": "H7f45ixzyCjp",
        "outputId": "2fddec9f-21d3-419f-f8d3-c24d90a07c0b"
      },
      "execution_count": null,
      "outputs": [
        {
          "name": "stdout",
          "output_type": "stream",
          "text": [
            "Введите ваш OpenAI API ключ··········\n"
          ]
        }
      ]
    },
    {
      "cell_type": "code",
      "source": [
        "from langchain_openai import ChatOpenAI\n",
        "\n",
        "# Инициализируем языковую модель\n",
        "llm = ChatOpenAI(temperature=0.0, model=\"gpt-4o\") #gpt-3.5-turbo #gpt-4o"
      ],
      "metadata": {
        "id": "rfBeGmuXyCmj"
      },
      "execution_count": null,
      "outputs": []
    },
    {
      "cell_type": "code",
      "source": [
        "# Формируем список из примеров, берем данные из dataframe , переводим их в словарь и добавляем их в список\n",
        "examples = []\n",
        "count = 0  # Переменная count инициализируется перед циклом\n",
        "\n",
        "for index, row in df.iterrows():\n",
        "    dic = dict()\n",
        "    dic[\"hmi\"] = row['HMI']\n",
        "    dic[\"ssts\"] = row['SSTS']\n",
        "    dic[\"differences\"] = row['Differences']\n",
        "    dic[\"description\"] = row['Description']\n",
        "    examples.append(dic)\n",
        "    count += 1\n",
        "    if count == 3:\n",
        "        break\n"
      ],
      "metadata": {
        "id": "-jHaffQnyCpn"
      },
      "execution_count": null,
      "outputs": []
    },
    {
      "cell_type": "code",
      "source": [
        "#examples"
      ],
      "metadata": {
        "id": "5_TPOL48h40I"
      },
      "execution_count": null,
      "outputs": []
    },
    {
      "cell_type": "code",
      "source": [
        "import json\n",
        "\n",
        "# Ваш список словарей\n",
        "\n",
        "# Преобразуем каждый словарь в строку в формате JSON\n",
        "json_strings = [json.dumps(dic, ensure_ascii=False) for dic in examples]\n",
        "\n",
        "# Соединяем эти строки с нужным разделителем \"\\n\\n\"\n",
        "separator = \"\\n\\n\"\n",
        "combined_string = separator.join(json_strings)\n",
        "\n",
        "# Разделяем обратно на список словарей, используя разделитель \"\\n\\n\"\n",
        "examples = [json.loads(item) for item in combined_string.split(separator)]"
      ],
      "metadata": {
        "id": "5ZMVoMn4o8Oh"
      },
      "execution_count": null,
      "outputs": []
    },
    {
      "cell_type": "code",
      "source": [],
      "metadata": {
        "id": "EMIz68XrqkyG"
      },
      "execution_count": null,
      "outputs": []
    },
    {
      "cell_type": "code",
      "source": [
        "# создаём template для примеров\n",
        "example_template = \"\"\"Technical Requirement: {hmi}\n",
        "Offer from Seller {ssts}\n",
        "Answer: {differences}\n",
        "\"\"\""
      ],
      "metadata": {
        "id": "pTLa0R76yCsV"
      },
      "execution_count": null,
      "outputs": []
    },
    {
      "cell_type": "code",
      "source": [
        "# создаём промпт из шаблона выше\n",
        "example_prompt = PromptTemplate(\n",
        "    input_variables=[\"hmi\", \"ssts\", \"differences\"],\n",
        "    template=example_template)"
      ],
      "metadata": {
        "id": "sNS2yrG8yCvU"
      },
      "execution_count": null,
      "outputs": []
    },
    {
      "cell_type": "code",
      "source": [
        "# теперь разбиваем наш предыдущий промпт на prefix и suffix\n",
        "# где - prefix это наша инструкция для модели\n",
        "prefix = \"\"\" You are working as a comlience officer for procurement.\n",
        "You a given Technical Requirement that you must follow and offer from the seller\n",
        "Your task is to find differences between the Technical Requirement and the Offer, mention only what the Offer misses.\n",
        "Here are some examples:\n",
        "\"\"\"\n",
        "\n",
        "# а suffix - это вопрос пользователя и поле для ответа\n",
        "suffix = \"\"\"\n",
        "Technical Requirement: {hmi}\n",
        "Offer from Seller: {ssts}\n",
        "Answer: \"\"\"\n",
        "\n",
        "# создаём сам few shot prompt template\n",
        "few_shot_prompt_template = FewShotPromptTemplate(\n",
        "    examples=examples,\n",
        "    example_prompt=example_prompt,\n",
        "    prefix=prefix,\n",
        "    suffix=suffix,\n",
        "    input_variables=[\"hmi\", \"ssts\"],\n",
        "    example_separator=\"\\n\\n\"\n",
        ")"
      ],
      "metadata": {
        "id": "IXMUTf119Fqv"
      },
      "execution_count": null,
      "outputs": []
    },
    {
      "cell_type": "code",
      "source": [
        "# Делаем пример входных данных\n",
        "hmi = df.loc[0, 'HMI']\n",
        "ssts = df.loc[0, 'SSTS']\n",
        "\n"
      ],
      "metadata": {
        "id": "nwVSbcy8uSCu"
      },
      "execution_count": null,
      "outputs": []
    },
    {
      "cell_type": "code",
      "source": [
        "print(llm.invoke(few_shot_prompt_template.format(hmi=hmi, ssts = ssts)).content)"
      ],
      "metadata": {
        "colab": {
          "base_uri": "https://localhost:8080/"
        },
        "id": "or97Yt3S_DkB",
        "outputId": "8b711c58-0222-40bf-aadd-4e2aba1c4549"
      },
      "execution_count": null,
      "outputs": [
        {
          "output_type": "stream",
          "name": "stdout",
          "text": [
            "The Offer from the Seller misses the following content from the Technical Requirement:\n",
            "\n",
            "1. **Output Device**: The Offer specifies \"mobile audio channel\" instead of \"vehicle's speakers\" for playing the incoming call sound.\n",
            "\n",
            "2. **Display of Call Status**: The Offer does not specify the display of call status on the HUD and SWP Android, only mentions sending a signal.\n",
            "\n",
            "3. **Methods for Accepting/Rejecting Calls**: The Offer does not mention the ability to accept or reject calls using the front buttons on the steering wheel or via the voice assistant command.\n",
            "\n",
            "4. **Interior Ambient Light**: The Offer does not mention changing the interior ambient light color to signal an incoming call or its status post-call acceptance or rejection.\n",
            "\n",
            "5. **Music Volume Adjustment**: The Offer does not include functionality to lower the music volume when an incoming call is received.\n"
          ]
        }
      ]
    },
    {
      "cell_type": "markdown",
      "source": [
        "### Запускаем LLama"
      ],
      "metadata": {
        "id": "iGi4hzBJsCIH"
      }
    },
    {
      "cell_type": "code",
      "source": [
        "# как перейти с ChatGPT на llama\n",
        "Чтобы переделать ваш код для работы с Llama 3.2 вместо ChatGPT, вам нужно заменить используемый LLM (Large Language Model) на соответствующую обертку для Llama 3.2. Предполагая, что вы используете библиотеку **LangChain**, вы можете воспользоваться оберткой `HuggingFacePipeline` для интеграции с моделью Llama 3.2 через библиотеку **Transformers** от HuggingFace.\n",
        "\n",
        "Ниже приведены шаги по изменению вашего кода:\n",
        "\n",
        "### 1. Установите необходимые библиотеки\n",
        "\n",
        "Убедитесь, что у вас установлены последние версии библиотек:\n",
        "\n",
        "```bash\n",
        "pip install transformers\n",
        "pip install langchain\n",
        "```\n",
        "\n",
        "### 2. Импортируйте необходимые модули\n",
        "\n",
        "```python\n",
        "from langchain.llms import HuggingFacePipeline\n",
        "from transformers import AutoTokenizer, AutoModelForCausalLM, pipeline\n",
        "```\n",
        "\n",
        "### 3. Загрузите модель и токенизатор Llama 3.2\n",
        "\n",
        "Предполагая, что вы уже скачали модель Llama 3.2 или она доступна по имени модели:\n",
        "\n",
        "```python\n",
        "model_name = \"path_or_name_of_llama_3.2_model\"  # Замените на путь или имя вашей модели\n",
        "\n",
        "tokenizer = AutoTokenizer.from_pretrained(model_name)\n",
        "model = AutoModelForCausalLM.from_pretrained(model_name)\n",
        "```\n",
        "\n",
        "### 4. Создайте пайплайн для генерации текста\n",
        "\n",
        "```python\n",
        "text_gen_pipeline = pipeline(\n",
        "    \"text-generation\",\n",
        "    model=model,\n",
        "    tokenizer=tokenizer,\n",
        "    max_length=1024,         # Максимальная длина генерируемого текста\n",
        "    temperature=0.0,         # Температура для контроля креативности вывода\n",
        "    device=0                 # Укажите -1 для CPU или номер GPU, если доступен\n",
        ")\n",
        "```\n",
        "\n",
        "### 5. Инициализируйте LLM с помощью `HuggingFacePipeline`\n",
        "\n",
        "```python\n",
        "llm = HuggingFacePipeline(pipeline=text_gen_pipeline)\n",
        "```\n",
        "\n",
        "### 6. Обновите ваш код для использования нового LLM\n",
        "\n",
        "Замените вызовы `llm.invoke()` на просто `llm()`, так как `HuggingFacePipeline` использует вызов как функцию.\n",
        "\n",
        "Вот обновленный код:\n",
        "\n",
        "```python\n",
        "# Проверяем доступные колонки и убираем лишние пробелы\n",
        "print(df.columns)\n",
        "df.columns = df.columns.str.strip()\n",
        "\n",
        "# Импортируем необходимые модули\n",
        "from langchain.llms import HuggingFacePipeline\n",
        "from transformers import AutoTokenizer, AutoModelForCausalLM, pipeline\n",
        "\n",
        "# Загрузите модель и токенизатор Llama 3.2\n",
        "model_name = \"path_or_name_of_llama_3.2_model\"  # Замените на путь или имя вашей модели\n",
        "\n",
        "tokenizer = AutoTokenizer.from_pretrained(model_name)\n",
        "model = AutoModelForCausalLM.from_pretrained(model_name)\n",
        "\n",
        "# Создаем пайплайн\n",
        "text_gen_pipeline = pipeline(\n",
        "    \"text-generation\",\n",
        "    model=model,\n",
        "    tokenizer=tokenizer,\n",
        "    max_length=1024,\n",
        "    temperature=0.0,\n",
        "    device=0  # Укажите -1 для CPU или номер GPU\n",
        ")\n",
        "\n",
        "# Инициализируем языковую модель\n",
        "llm = HuggingFacePipeline(pipeline=text_gen_pipeline)\n",
        "\n",
        "\n"
      ],
      "metadata": {
        "colab": {
          "base_uri": "https://localhost:8080/",
          "height": 124
        },
        "id": "yrlzeIU9qRpg",
        "outputId": "95c8e5d2-81f1-40bc-bfff-c786b1522842"
      },
      "execution_count": null,
      "outputs": [
        {
          "output_type": "error",
          "ename": "SyntaxError",
          "evalue": "invalid syntax (<ipython-input-328-01504f4c0196>, line 2)",
          "traceback": [
            "\u001b[0;36m  File \u001b[0;32m\"<ipython-input-328-01504f4c0196>\"\u001b[0;36m, line \u001b[0;32m2\u001b[0m\n\u001b[0;31m    Чтобы переделать ваш код для работы с Llama 3.2 вместо ChatGPT, вам нужно заменить используемый LLM (Large Language Model) на соответствующую обертку для Llama 3.2. Предполагая, что вы используете библиотеку **LangChain**, вы можете воспользоваться оберткой `HuggingFacePipeline` для интеграции с моделью Llama 3.2 через библиотеку **Transformers** от HuggingFace.\u001b[0m\n\u001b[0m          ^\u001b[0m\n\u001b[0;31mSyntaxError\u001b[0m\u001b[0;31m:\u001b[0m invalid syntax\n"
          ]
        }
      ]
    },
    {
      "cell_type": "code",
      "source": [],
      "metadata": {
        "id": "EzzHz0o3LJCS"
      },
      "execution_count": null,
      "outputs": []
    },
    {
      "cell_type": "code",
      "source": [],
      "metadata": {
        "id": "cqXctSaYLJQK"
      },
      "execution_count": null,
      "outputs": []
    },
    {
      "cell_type": "markdown",
      "source": [
        "### Определяем степень разницы"
      ],
      "metadata": {
        "id": "MAz0S1LJ_mnQ"
      }
    },
    {
      "cell_type": "code",
      "source": [
        "### Будем деать косинусное расстояние\n",
        "\n",
        "import pandas as pd\n",
        "from sklearn.model_selection import train_test_split\n",
        "from sklearn.feature_extraction.text import TfidfVectorizer\n",
        "from sklearn.ensemble import RandomForestClassifier\n",
        "from sklearn.pipeline import Pipeline\n",
        "from sklearn.metrics import classification_report\n",
        "\n",
        "# Загрузка данных\n",
        "file_path = '/mnt/data/train_data_markup.xlsx'\n",
        "df = pd.read_excel(file_path)\n",
        "\n",
        "# Предварительная обработка данных\n",
        "# Убираем строки с отсутствующим уровнем соответствия и удаляем ненужные колонки\n",
        "df = df.dropna(subset=['Complience Level'])\n",
        "df = df[['Differences', 'Description', 'Complience Level']]\n",
        "\n",
        "# Объединяем текстовые данные для анализа\n",
        "# Конкатенируем 'Differences' и 'Description' в один текст для обучения\n",
        "combined_text = df['Differences'].fillna('') + ' ' + df['Description'].fillna('')\n",
        "\n",
        "# Делим данные на обучающую и тестовую выборки\n",
        "X_train, X_test, y_train, y_test = train_test_split(combined_text, df['Complience Level'], test_size=0.2, random_state=42)\n",
        "\n",
        "# Создаем конвейер для обучения модели\n",
        "pipeline = Pipeline([\n",
        "    ('tfidf', TfidfVectorizer()),\n",
        "    ('classifier', RandomForestClassifier(n_estimators=100, random_state=42))\n",
        "])\n",
        "\n",
        "# Обучаем модель\n",
        "pipeline.fit(X_train, y_train)\n",
        "\n",
        "# Делаем предсказания на тестовых данных\n",
        "y_pred = pipeline.predict(X_test)\n",
        "\n",
        "# Выводим отчет о классификации\n",
        "print(classification_report(y_test, y_pred))\n",
        "\n",
        "# Сохраняем модель для дальнейшего использования\n",
        "import joblib\n",
        "model_path = '/mnt/data/compliance_level_model.pkl'\n",
        "joblib.dump(pipeline, model_path)\n",
        "\n",
        "print(f\"Модель сохранена по пути: {model_path}\")\n"
      ],
      "metadata": {
        "id": "tM6TCEb3LJTR"
      },
      "execution_count": null,
      "outputs": []
    }
  ]
}